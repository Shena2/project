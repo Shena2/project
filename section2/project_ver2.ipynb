{
  "nbformat": 4,
  "nbformat_minor": 0,
  "metadata": {
    "kernelspec": {
      "display_name": "Python 3",
      "language": "python",
      "name": "python3"
    },
    "language_info": {
      "codemirror_mode": {
        "name": "ipython",
        "version": 3
      },
      "file_extension": ".py",
      "mimetype": "text/x-python",
      "name": "python",
      "nbconvert_exporter": "python",
      "pygments_lexer": "ipython3",
      "version": "3.8.5"
    },
    "colab": {
      "name": "Section2_project.ipynb",
      "provenance": [],
      "include_colab_link": true
    }
  },
  "cells": [
    {
      "cell_type": "markdown",
      "metadata": {
        "id": "view-in-github",
        "colab_type": "text"
      },
      "source": [
        "<a href=\"https://colab.research.google.com/github/Shena2/project/blob/main/section2/project_ver2.ipynb\" target=\"_parent\"><img src=\"https://colab.research.google.com/assets/colab-badge.svg\" alt=\"Open In Colab\"/></a>"
      ]
    },
    {
      "cell_type": "markdown",
      "metadata": {
        "id": "HJzKmo1krFuf"
      },
      "source": [
        "# **다시보기를 추천할만한 영화일까?**\n",
        "\n",
        "데이터셋을 사용하여 머신러능 모델을 만든 후 성능및 인사이트를 도출 / 공유하는 것  \n",
        "발표를 듣는 사람은 비데이터 직군"
      ]
    },
    {
      "cell_type": "markdown",
      "metadata": {
        "id": "G1MRRiTorFuf"
      },
      "source": [
        "## 1) 데이터 선정 이유 및 문제 정의\n",
        "데이터를 선정할 때에는 반드시 왜 해당 데이터를 선택했는지에 대한 이유를 자세히 설명해주셔야 합니다.   \n",
        "데이터셋 선정이 끝났다면 어떤 유형의 문제로 (분류 / 회귀) 접근할지도 결정합니다."
      ]
    },
    {
      "cell_type": "markdown",
      "metadata": {
        "id": "shdln1DOrFuf"
      },
      "source": [
        "### Feature Explanation\n",
        "- A title : Title and subtitle of film.\n",
        "- year : Release year of the movie. The data reveal a domain of the year.\n",
        "- lifetime_gross : Gross sales for national film sales in the United States, not taking inflation into account.\n",
        "- ratingInteger : Vote on IMDb from 2 to 9.\n",
        "- ratingCount : Number of voters on the IMDb site.\n",
        "- duration : Duration of the movie in seconds.\n",
        "- nrOfWins : Number of prizes won by the movie. It is an indicative number that certifies how many are the prizes won even after\n",
        "- nrOfNominations : Number of nominations of which the film has not won any prize.\n",
        "- nrOfPhotos : Number of photos in the IMDb gallery for the movie.\n",
        "- nrOfNewsArticles : Number of articles written and documented on the film.\n",
        "- nrOfUserReviews : Number of reviews written by users.\n",
        "- nrOfGenre : Number of genre.\n",
        "- Genre : list by one hot incoding. (Action,\tAdult,\tAdventure,\tAnimation,\tBiography,\tComedy,\tCrime,\tDocumentary,\tDrama,\tFamily,\tFantasy,\tHorror,\tMusic,\tMusical,\tMystery,\tNews,\tRealityTV,\tRomance,\tSciFi,\tShort,\tSport, TalkShow,\tThriller,\tWar,\tWestern)"
      ]
    },
    {
      "cell_type": "code",
      "metadata": {
        "id": "NENVw2ThO1NO"
      },
      "source": [
        "import numpy as np\n",
        "from pandas import Series\n",
        "from pandas import DataFrame"
      ],
      "execution_count": 1,
      "outputs": []
    },
    {
      "cell_type": "code",
      "metadata": {
        "colab": {
          "base_uri": "https://localhost:8080/",
          "height": 275
        },
        "id": "5gMAWc5KrZ7x",
        "outputId": "0f32db48-934e-457c-a993-36dd2d71e8e1"
      },
      "source": [
        "# 데이터 불러오기\n",
        "import pandas as pd\n",
        "df = pd.read_csv('/content/IMDB_data.csv')\n",
        "\n",
        "df.head()"
      ],
      "execution_count": 2,
      "outputs": [
        {
          "output_type": "execute_result",
          "data": {
            "text/html": [
              "<div>\n",
              "<style scoped>\n",
              "    .dataframe tbody tr th:only-of-type {\n",
              "        vertical-align: middle;\n",
              "    }\n",
              "\n",
              "    .dataframe tbody tr th {\n",
              "        vertical-align: top;\n",
              "    }\n",
              "\n",
              "    .dataframe thead th {\n",
              "        text-align: right;\n",
              "    }\n",
              "</style>\n",
              "<table border=\"1\" class=\"dataframe\">\n",
              "  <thead>\n",
              "    <tr style=\"text-align: right;\">\n",
              "      <th></th>\n",
              "      <th>title</th>\n",
              "      <th>year</th>\n",
              "      <th>lifetime_gross</th>\n",
              "      <th>ratingInteger</th>\n",
              "      <th>ratingCount</th>\n",
              "      <th>duration</th>\n",
              "      <th>nrOfWins</th>\n",
              "      <th>nrOfNominations</th>\n",
              "      <th>nrOfPhotos</th>\n",
              "      <th>nrOfNewsArticles</th>\n",
              "      <th>nrOfUserReviews</th>\n",
              "      <th>nrOfGenre</th>\n",
              "      <th>Action</th>\n",
              "      <th>Adult</th>\n",
              "      <th>Adventure</th>\n",
              "      <th>Animation</th>\n",
              "      <th>Biography</th>\n",
              "      <th>Comedy</th>\n",
              "      <th>Crime</th>\n",
              "      <th>Documentary</th>\n",
              "      <th>Drama</th>\n",
              "      <th>Family</th>\n",
              "      <th>Fantasy</th>\n",
              "      <th>Horror</th>\n",
              "      <th>Music</th>\n",
              "      <th>Musical</th>\n",
              "      <th>Mystery</th>\n",
              "      <th>News</th>\n",
              "      <th>RealityTV</th>\n",
              "      <th>Romance</th>\n",
              "      <th>SciFi</th>\n",
              "      <th>Short</th>\n",
              "      <th>Sport</th>\n",
              "      <th>TalkShow</th>\n",
              "      <th>Thriller</th>\n",
              "      <th>War</th>\n",
              "      <th>Western</th>\n",
              "    </tr>\n",
              "  </thead>\n",
              "  <tbody>\n",
              "    <tr>\n",
              "      <th>0</th>\n",
              "      <td>METROPOLIS</td>\n",
              "      <td>1927</td>\n",
              "      <td>1236166</td>\n",
              "      <td>8</td>\n",
              "      <td>81007</td>\n",
              "      <td>9180</td>\n",
              "      <td>3</td>\n",
              "      <td>4</td>\n",
              "      <td>67</td>\n",
              "      <td>428</td>\n",
              "      <td>376</td>\n",
              "      <td>2</td>\n",
              "      <td>0</td>\n",
              "      <td>0</td>\n",
              "      <td>0</td>\n",
              "      <td>0</td>\n",
              "      <td>0</td>\n",
              "      <td>0</td>\n",
              "      <td>0</td>\n",
              "      <td>0</td>\n",
              "      <td>1</td>\n",
              "      <td>0</td>\n",
              "      <td>0</td>\n",
              "      <td>0</td>\n",
              "      <td>0</td>\n",
              "      <td>0</td>\n",
              "      <td>0</td>\n",
              "      <td>0</td>\n",
              "      <td>0</td>\n",
              "      <td>0</td>\n",
              "      <td>1</td>\n",
              "      <td>0</td>\n",
              "      <td>0</td>\n",
              "      <td>0</td>\n",
              "      <td>0</td>\n",
              "      <td>0</td>\n",
              "      <td>0</td>\n",
              "    </tr>\n",
              "    <tr>\n",
              "      <th>1</th>\n",
              "      <td>CITY LIGHTS</td>\n",
              "      <td>1931</td>\n",
              "      <td>19181</td>\n",
              "      <td>9</td>\n",
              "      <td>70057</td>\n",
              "      <td>5220</td>\n",
              "      <td>2</td>\n",
              "      <td>0</td>\n",
              "      <td>38</td>\n",
              "      <td>187</td>\n",
              "      <td>186</td>\n",
              "      <td>3</td>\n",
              "      <td>0</td>\n",
              "      <td>0</td>\n",
              "      <td>0</td>\n",
              "      <td>0</td>\n",
              "      <td>0</td>\n",
              "      <td>1</td>\n",
              "      <td>0</td>\n",
              "      <td>0</td>\n",
              "      <td>1</td>\n",
              "      <td>0</td>\n",
              "      <td>0</td>\n",
              "      <td>0</td>\n",
              "      <td>0</td>\n",
              "      <td>0</td>\n",
              "      <td>0</td>\n",
              "      <td>0</td>\n",
              "      <td>0</td>\n",
              "      <td>1</td>\n",
              "      <td>0</td>\n",
              "      <td>0</td>\n",
              "      <td>0</td>\n",
              "      <td>0</td>\n",
              "      <td>0</td>\n",
              "      <td>0</td>\n",
              "      <td>0</td>\n",
              "    </tr>\n",
              "    <tr>\n",
              "      <th>2</th>\n",
              "      <td>MODERN TIMES</td>\n",
              "      <td>1936</td>\n",
              "      <td>163577</td>\n",
              "      <td>9</td>\n",
              "      <td>90847</td>\n",
              "      <td>5220</td>\n",
              "      <td>3</td>\n",
              "      <td>1</td>\n",
              "      <td>44</td>\n",
              "      <td>27</td>\n",
              "      <td>180</td>\n",
              "      <td>2</td>\n",
              "      <td>0</td>\n",
              "      <td>0</td>\n",
              "      <td>0</td>\n",
              "      <td>0</td>\n",
              "      <td>0</td>\n",
              "      <td>1</td>\n",
              "      <td>0</td>\n",
              "      <td>0</td>\n",
              "      <td>1</td>\n",
              "      <td>0</td>\n",
              "      <td>0</td>\n",
              "      <td>0</td>\n",
              "      <td>0</td>\n",
              "      <td>0</td>\n",
              "      <td>0</td>\n",
              "      <td>0</td>\n",
              "      <td>0</td>\n",
              "      <td>0</td>\n",
              "      <td>0</td>\n",
              "      <td>0</td>\n",
              "      <td>0</td>\n",
              "      <td>0</td>\n",
              "      <td>0</td>\n",
              "      <td>0</td>\n",
              "      <td>0</td>\n",
              "    </tr>\n",
              "    <tr>\n",
              "      <th>3</th>\n",
              "      <td>GONE WITH THE WIND</td>\n",
              "      <td>1939</td>\n",
              "      <td>198676459</td>\n",
              "      <td>8</td>\n",
              "      <td>160414</td>\n",
              "      <td>14280</td>\n",
              "      <td>10</td>\n",
              "      <td>6</td>\n",
              "      <td>143</td>\n",
              "      <td>1263</td>\n",
              "      <td>653</td>\n",
              "      <td>3</td>\n",
              "      <td>0</td>\n",
              "      <td>0</td>\n",
              "      <td>0</td>\n",
              "      <td>0</td>\n",
              "      <td>0</td>\n",
              "      <td>0</td>\n",
              "      <td>0</td>\n",
              "      <td>0</td>\n",
              "      <td>1</td>\n",
              "      <td>0</td>\n",
              "      <td>0</td>\n",
              "      <td>0</td>\n",
              "      <td>0</td>\n",
              "      <td>0</td>\n",
              "      <td>0</td>\n",
              "      <td>0</td>\n",
              "      <td>0</td>\n",
              "      <td>1</td>\n",
              "      <td>0</td>\n",
              "      <td>0</td>\n",
              "      <td>0</td>\n",
              "      <td>0</td>\n",
              "      <td>0</td>\n",
              "      <td>1</td>\n",
              "      <td>0</td>\n",
              "    </tr>\n",
              "    <tr>\n",
              "      <th>4</th>\n",
              "      <td>THE WIZARD OF OZ</td>\n",
              "      <td>1939</td>\n",
              "      <td>22342633</td>\n",
              "      <td>8</td>\n",
              "      <td>209506</td>\n",
              "      <td>6120</td>\n",
              "      <td>6</td>\n",
              "      <td>12</td>\n",
              "      <td>126</td>\n",
              "      <td>2363</td>\n",
              "      <td>477</td>\n",
              "      <td>3</td>\n",
              "      <td>0</td>\n",
              "      <td>0</td>\n",
              "      <td>1</td>\n",
              "      <td>0</td>\n",
              "      <td>0</td>\n",
              "      <td>0</td>\n",
              "      <td>0</td>\n",
              "      <td>0</td>\n",
              "      <td>0</td>\n",
              "      <td>1</td>\n",
              "      <td>1</td>\n",
              "      <td>0</td>\n",
              "      <td>0</td>\n",
              "      <td>0</td>\n",
              "      <td>0</td>\n",
              "      <td>0</td>\n",
              "      <td>0</td>\n",
              "      <td>0</td>\n",
              "      <td>0</td>\n",
              "      <td>0</td>\n",
              "      <td>0</td>\n",
              "      <td>0</td>\n",
              "      <td>0</td>\n",
              "      <td>0</td>\n",
              "      <td>0</td>\n",
              "    </tr>\n",
              "  </tbody>\n",
              "</table>\n",
              "</div>"
            ],
            "text/plain": [
              "                title  year  lifetime_gross  ...  Thriller  War  Western\n",
              "0          METROPOLIS  1927         1236166  ...         0    0        0\n",
              "1         CITY LIGHTS  1931           19181  ...         0    0        0\n",
              "2        MODERN TIMES  1936          163577  ...         0    0        0\n",
              "3  GONE WITH THE WIND  1939       198676459  ...         0    1        0\n",
              "4    THE WIZARD OF OZ  1939        22342633  ...         0    0        0\n",
              "\n",
              "[5 rows x 37 columns]"
            ]
          },
          "metadata": {
            "tags": []
          },
          "execution_count": 2
        }
      ]
    },
    {
      "cell_type": "code",
      "metadata": {
        "id": "cNDOcaEC4IYS",
        "outputId": "ad871f5b-e8c7-4421-ebf6-7322f06fc06b",
        "colab": {
          "base_uri": "https://localhost:8080/"
        }
      },
      "source": [
        "df.shape"
      ],
      "execution_count": 2,
      "outputs": [
        {
          "output_type": "execute_result",
          "data": {
            "text/plain": [
              "(3749, 37)"
            ]
          },
          "metadata": {
            "tags": []
          },
          "execution_count": 2
        }
      ]
    },
    {
      "cell_type": "markdown",
      "metadata": {
        "id": "D5yWzOPTPIhC"
      },
      "source": [
        "### ML Model\n",
        "- Classification  \n",
        "평점(숫자)을 통해 추천/비추천"
      ]
    },
    {
      "cell_type": "code",
      "metadata": {
        "id": "gegQ7VtoD_Lw",
        "outputId": "4d83a747-9050-4d52-eabc-1f83a64d6a3c",
        "colab": {
          "base_uri": "https://localhost:8080/",
          "height": 336
        }
      },
      "source": [
        "import matplotlib.pyplot as plt\n",
        "\n",
        "rating_counts = df.value_counts(df['ratingInteger'].values, sort=False)\n",
        "rating_counts.plot.bar()\n",
        "rating_counts.plot.bar(grid=False, figsize=(7,5), fontsize=15, color='lightpink')"
      ],
      "execution_count": 3,
      "outputs": [
        {
          "output_type": "execute_result",
          "data": {
            "text/plain": [
              "<matplotlib.axes._subplots.AxesSubplot at 0x7f863e5606d0>"
            ]
          },
          "metadata": {
            "tags": []
          },
          "execution_count": 3
        },
        {
          "output_type": "display_data",
          "data": {
            "image/png": "[encoded data removed]",
            "text/plain": [
              "<Figure size 504x360 with 1 Axes>"
            ]
          },
          "metadata": {
            "tags": [],
            "needs_background": "light"
          }
        }
      ]
    },
    {
      "cell_type": "markdown",
      "metadata": {
        "id": "zVEdCbfKrFug"
      },
      "source": [
        "## 2) 데이터를 이용한 가설 및 평가지표, 베이스라인 선택\n",
        "데이터를 선정함과 동시에 데이터를 통해서 내가 무엇을 해볼 수 있을지 가설을 세우는 것이 중요합니다.  \n",
        "가설은 쓸모 있어야 한다는 사실을 잊지마시길 바랍니다.  \n",
        "데이터 기반의 사고방식, data-driven의 마음가짐을 section1과 2에서 배웠습니다.  \n",
        "이번에는 그것들을 심화시켜서 문제 해결을 시도 해봅니다.\n",
        "\n",
        "태스크를 수행한 후, 다음 질문에 대답할 수 있어야 합니다.  \n",
        "1. 해당 특성을 target으로 지정한 이유를 설명하세요.  \n",
        "2. 해당 베이스라인 모델과 평가지표를 선택한 이유를 설명하세요"
      ]
    },
    {
      "cell_type": "markdown",
      "metadata": {
        "id": "Aql1xsJ65KOp"
      },
      "source": [
        "### 가설\n",
        "추천 할만한 영화인지 아닌지\n",
        "- 타겟: recommend\n",
        "- 베이스라인 선정: mean"
      ]
    },
    {
      "cell_type": "code",
      "metadata": {
        "id": "x--ClPZhyu0K",
        "outputId": "a80b8645-1710-4274-abbf-412ade3fd0b0",
        "colab": {
          "base_uri": "https://localhost:8080/"
        }
      },
      "source": [
        "# 타겟 지정\n",
        "target = 'recommend'\n",
        "\n",
        "# 피처 지정\n",
        "features = ['year',\t'lifetime_gross', 'ratingInteger', 'ratingCount',\n",
        "       'duration', 'nrOfWins', 'nrOfNominations', 'nrOfPhotos',\n",
        "       'nrOfNewsArticles', 'nrOfUserReviews', 'nrOfGenre', 'Action', 'Adult',\n",
        "       'Adventure', 'Animation', 'Biography', 'Comedy', 'Crime', 'Documentary',\n",
        "       'Drama', 'Family', 'Fantasy', 'Horror', 'Music', 'Musical', 'Mystery',\n",
        "       'News', 'RealityTV', 'Romance', 'SciFi', 'Short', 'Sport', 'TalkShow',\n",
        "       'Thriller', 'War', 'Western']\n",
        "\n",
        "# 베이스라인 선택\n",
        "baseline = df['ratingInteger'].mean()\n",
        "print('Baseline of ratingInteger:', round(baseline,3))"
      ],
      "execution_count": 4,
      "outputs": [
        {
          "output_type": "stream",
          "text": [
            "Baseline of ratingInteger: 6.631\n"
          ],
          "name": "stdout"
        }
      ]
    },
    {
      "cell_type": "code",
      "metadata": {
        "id": "bEBsjDLlWV4y"
      },
      "source": [
        "# recommend 생성\n",
        "def reco(x) :\n",
        "    if x > 6 :\n",
        "        return 1\n",
        "    else :\n",
        "        return 0\n",
        "\n",
        "df['recommend'] = df['ratingInteger'].apply(lambda x : reco(x))"
      ],
      "execution_count": 5,
      "outputs": []
    },
    {
      "cell_type": "markdown",
      "metadata": {
        "id": "lknLJN72rFug"
      },
      "source": [
        "## 3) EDA와 데이터 전처리\n",
        "가설을 정했고 베이스라인을 만들었다면 데이터의 탐색 및 가공을 시작해봅니다.  \n",
        "바로 적용이 될 수 있는 데이터도 있겠지만, 대부분의 데이터는 전처리 작업이 필요합니다.  \n",
        "데이터 전처리를 통해 할 수 있는 것은 다양하지만 다음을 시도해볼 수 있습니다.  \n",
        "- EDA\n",
        "- Feature Engineering \n",
        "- 데이터의 정규화 \n",
        "- 노이즈 제거  \n",
        "- 결측치 제거 혹은 대체  \n",
        "- 데이터 밸런스  \n",
        "- 그 외  \n",
        "  \n",
        "  \n",
        "태스크를 수행한 후, 다음 질문에 대답할 수 있어야 합니다.  \n",
        "1. Data Leakage가 있었나요? 없었다면 어떻게 방지했나요?  \n",
        "2. 문정언님이 만들고자 하는 모델은 언제 유용한가요? 어떤 한계를 가지고 있나요?"
      ]
    },
    {
      "cell_type": "markdown",
      "metadata": {
        "id": "gDlxbsKaaDVo"
      },
      "source": [
        "### 데이터 확인\n",
        "- 데이터 타입\n",
        "- 결측치"
      ]
    },
    {
      "cell_type": "code",
      "metadata": {
        "id": "B4wdZAeEI8Zg",
        "outputId": "2e1036da-073c-4785-a34b-9693cbca441e",
        "colab": {
          "base_uri": "https://localhost:8080/"
        }
      },
      "source": [
        "# 데이터 타입, 결측치 확인\n",
        "df.info()"
      ],
      "execution_count": 7,
      "outputs": [
        {
          "output_type": "stream",
          "text": [
            "<class 'pandas.core.frame.DataFrame'>\n",
            "RangeIndex: 3749 entries, 0 to 3748\n",
            "Data columns (total 38 columns):\n",
            " #   Column            Non-Null Count  Dtype \n",
            "---  ------            --------------  ----- \n",
            " 0   title             3749 non-null   object\n",
            " 1   year              3749 non-null   int64 \n",
            " 2   lifetime_gross    3749 non-null   int64 \n",
            " 3   ratingInteger     3749 non-null   int64 \n",
            " 4   ratingCount       3749 non-null   int64 \n",
            " 5   duration          3749 non-null   int64 \n",
            " 6   nrOfWins          3749 non-null   int64 \n",
            " 7   nrOfNominations   3749 non-null   int64 \n",
            " 8   nrOfPhotos        3749 non-null   int64 \n",
            " 9   nrOfNewsArticles  3749 non-null   int64 \n",
            " 10  nrOfUserReviews   3749 non-null   int64 \n",
            " 11  nrOfGenre         3749 non-null   int64 \n",
            " 12  Action            3749 non-null   int64 \n",
            " 13  Adult             3749 non-null   int64 \n",
            " 14  Adventure         3749 non-null   int64 \n",
            " 15  Animation         3749 non-null   int64 \n",
            " 16  Biography         3749 non-null   int64 \n",
            " 17  Comedy            3749 non-null   int64 \n",
            " 18  Crime             3749 non-null   int64 \n",
            " 19  Documentary       3749 non-null   int64 \n",
            " 20  Drama             3749 non-null   int64 \n",
            " 21  Family            3749 non-null   int64 \n",
            " 22  Fantasy           3749 non-null   int64 \n",
            " 23  Horror            3749 non-null   int64 \n",
            " 24  Music             3749 non-null   int64 \n",
            " 25  Musical           3749 non-null   int64 \n",
            " 26  Mystery           3749 non-null   int64 \n",
            " 27  News              3749 non-null   int64 \n",
            " 28  RealityTV         3749 non-null   int64 \n",
            " 29  Romance           3749 non-null   int64 \n",
            " 30  SciFi             3749 non-null   int64 \n",
            " 31  Short             3749 non-null   int64 \n",
            " 32  Sport             3749 non-null   int64 \n",
            " 33  TalkShow          3749 non-null   int64 \n",
            " 34  Thriller          3749 non-null   int64 \n",
            " 35  War               3749 non-null   int64 \n",
            " 36  Western           3749 non-null   int64 \n",
            " 37  recommend         3749 non-null   int64 \n",
            "dtypes: int64(37), object(1)\n",
            "memory usage: 1.1+ MB\n"
          ],
          "name": "stdout"
        }
      ]
    },
    {
      "cell_type": "markdown",
      "metadata": {
        "id": "jubI05QzQffR"
      },
      "source": [
        "### EDA\n",
        "- 수상\n",
        "- 장르\n",
        "- 리뷰"
      ]
    },
    {
      "cell_type": "markdown",
      "metadata": {
        "id": "Dc9ZCzocDrDk"
      },
      "source": [
        "#### 수상\n",
        "- 수상이 평점에 영향이 있는지 확인"
      ]
    },
    {
      "cell_type": "code",
      "metadata": {
        "id": "f0BtkmVQxQCt",
        "outputId": "1b7f0c4b-b3e5-4405-f115-dafcfd0f6300",
        "colab": {
          "base_uri": "https://localhost:8080/",
          "height": 518
        }
      },
      "source": [
        "# 상을 몇개나 받았는가\n",
        "WinsCount = X_train.value_counts(X_train['nrOfWins'].values, sort=False)\n",
        "WinsCount.plot.bar()\n",
        "WinsCount.plot.bar(grid=False, figsize=(20,8), fontsize=15, color='lightpink')"
      ],
      "execution_count": 8,
      "outputs": [
        {
          "output_type": "execute_result",
          "data": {
            "text/plain": [
              "<matplotlib.axes._subplots.AxesSubplot at 0x7f863df15890>"
            ]
          },
          "metadata": {
            "tags": []
          },
          "execution_count": 8
        },
        {
          "output_type": "display_data",
          "data": {
            "image/png": "[encoded data removed]",
            "text/plain": [
              "<Figure size 1440x576 with 1 Axes>"
            ]
          },
          "metadata": {
            "tags": [],
            "needs_background": "light"
          }
        }
      ]
    },
    {
      "cell_type": "code",
      "metadata": {
        "id": "qLMlgqfsL89q",
        "outputId": "6d8a91be-b298-4fca-d028-3e48eecffa4d",
        "colab": {
          "base_uri": "https://localhost:8080/"
        }
      },
      "source": [
        "# 상관계수 확인\n",
        "wins_corr = X_train['nrOfWins'].corr(y_train)\n",
        "wins_corr"
      ],
      "execution_count": 9,
      "outputs": [
        {
          "output_type": "execute_result",
          "data": {
            "text/plain": [
              "0.31351143849983465"
            ]
          },
          "metadata": {
            "tags": []
          },
          "execution_count": 9
        }
      ]
    },
    {
      "cell_type": "code",
      "metadata": {
        "id": "zRKDpDUeS-s-",
        "outputId": "e1a53798-0132-4bcb-9e69-7f8810cad2df",
        "colab": {
          "base_uri": "https://localhost:8080/",
          "height": 331
        }
      },
      "source": [
        "# 상을 받았는가\n",
        "def func(x) :\n",
        "    if x > 0 :\n",
        "        return 1\n",
        "    else :\n",
        "        return 0\n",
        "\n",
        "X_train['WinsorNot'] = X_train['nrOfWins'].apply(lambda x : func(x))\n",
        "\n",
        "print(pd.Series(X_train['WinsorNot']).value_counts()) # 합계\n",
        "colors = ['lavenderblush', 'pink']\n",
        "WinsCount1 = X_train.value_counts(X_train['WinsorNot'].values, sort=False)\n",
        "WinsCount1.plot.bar(color=colors)"
      ],
      "execution_count": 10,
      "outputs": [
        {
          "output_type": "stream",
          "text": [
            "1    1544\n",
            "0     855\n",
            "Name: WinsorNot, dtype: int64\n"
          ],
          "name": "stdout"
        },
        {
          "output_type": "execute_result",
          "data": {
            "text/plain": [
              "<matplotlib.axes._subplots.AxesSubplot at 0x7f862e7e6210>"
            ]
          },
          "metadata": {
            "tags": []
          },
          "execution_count": 10
        },
        {
          "output_type": "display_data",
          "data": {
            "image/png": "[encoded data removed]",
            "text/plain": [
              "<Figure size 432x288 with 1 Axes>"
            ]
          },
          "metadata": {
            "tags": [],
            "needs_background": "light"
          }
        }
      ]
    },
    {
      "cell_type": "code",
      "metadata": {
        "id": "cIZb5WkQLnoP",
        "outputId": "cb86e861-930c-4b6a-9e1d-2ac87427d0a3",
        "colab": {
          "base_uri": "https://localhost:8080/"
        }
      },
      "source": [
        "# 상관계수 확인\n",
        "wins_corr = X_train['WinsorNot'].corr(y_train)\n",
        "wins_corr"
      ],
      "execution_count": 11,
      "outputs": [
        {
          "output_type": "execute_result",
          "data": {
            "text/plain": [
              "0.34422065907543686"
            ]
          },
          "metadata": {
            "tags": []
          },
          "execution_count": 11
        }
      ]
    },
    {
      "cell_type": "markdown",
      "metadata": {
        "id": "nQqD9BihDur8"
      },
      "source": [
        "#### 장르\n",
        "- 어떤 장르가 평점이 높은지 확인 "
      ]
    },
    {
      "cell_type": "code",
      "metadata": {
        "id": "xk17oZDK6yWK",
        "outputId": "8a702749-31ad-4068-a71c-3c426a7412ef",
        "colab": {
          "base_uri": "https://localhost:8080/",
          "height": 545
        }
      },
      "source": [
        "count1 = X_train.iloc[:, 12:-1]\n",
        "genr_count = count1.sum(axis=0).to_frame()\n",
        "genr_count.columns = ['counts']\n",
        "genr_count.plot.bar(rot=45, figsize=(20,8), color='palevioletred')"
      ],
      "execution_count": 13,
      "outputs": [
        {
          "output_type": "execute_result",
          "data": {
            "text/plain": [
              "<matplotlib.axes._subplots.AxesSubplot at 0x7f862e6eb3d0>"
            ]
          },
          "metadata": {
            "tags": []
          },
          "execution_count": 13
        },
        {
          "output_type": "display_data",
          "data": {
            "image/png": "[encoded data removed]",
            "text/plain": [
              "<Figure size 1440x576 with 1 Axes>"
            ]
          },
          "metadata": {
            "tags": [],
            "needs_background": "light"
          }
        }
      ]
    },
    {
      "cell_type": "code",
      "metadata": {
        "id": "b0zLTR3pMl_N",
        "outputId": "fe7ba9d3-7227-4d03-e5fe-520114ec0bb3",
        "colab": {
          "base_uri": "https://localhost:8080/"
        }
      },
      "source": [
        "print(count1.shape)\n",
        "print(y_train.shape)"
      ],
      "execution_count": 14,
      "outputs": [
        {
          "output_type": "stream",
          "text": [
            "(2399, 25)\n",
            "(2399,)\n"
          ],
          "name": "stdout"
        }
      ]
    },
    {
      "cell_type": "markdown",
      "metadata": {
        "id": "fbjMNH4iF_Z_"
      },
      "source": [
        "#### 리뷰\n",
        "- 별점이 높을수록 얼마나 많은 리뷰가 달렸는지 확인"
      ]
    },
    {
      "cell_type": "code",
      "metadata": {
        "id": "PQ-hZpq-NowH",
        "outputId": "28ca2ae4-58b7-4dc9-9838-c64afba354e3",
        "colab": {
          "base_uri": "https://localhost:8080/"
        }
      },
      "source": [
        "# 상관계수 확인\n",
        "reviews_corr = X_train['nrOfUserReviews'].corr(y_train)\n",
        "reviews_corr"
      ],
      "execution_count": 15,
      "outputs": [
        {
          "output_type": "execute_result",
          "data": {
            "text/plain": [
              "0.19146310888260965"
            ]
          },
          "metadata": {
            "tags": []
          },
          "execution_count": 15
        }
      ]
    },
    {
      "cell_type": "markdown",
      "metadata": {
        "id": "PtdyvkV6VeXq"
      },
      "source": [
        "### Feature Engineering"
      ]
    },
    {
      "cell_type": "markdown",
      "metadata": {
        "id": "tmJEoS5-SGQ5"
      },
      "source": [
        "#### 모든 변수와의 상관관계 확인\n",
        "**상위 6개 추출**  \n",
        "- ratingInteger, ratingCount, duration, nrOfWins, nrOfNominations, nrOfUserReviews  \n",
        "- 연도, 장르개수는 상관없음 (음수) "
      ]
    },
    {
      "cell_type": "code",
      "metadata": {
        "id": "D3m4wmIGN6kL",
        "outputId": "df52d5e2-bc3b-476a-e3cf-5697ff4885d3",
        "colab": {
          "base_uri": "https://localhost:8080/",
          "height": 411
        }
      },
      "source": [
        "# 모든 변수간 상관계수 확인\n",
        "train = X_train.join(y_train) #features와 target 결합\n",
        "train_corr = train.corr()\n",
        "corr_gh = train_corr.iloc[-1, 0:11]\n",
        "corr_gh.plot.bar(rot=45, figsize=(10,5), color='orchid', title='correlation with recommend')"
      ],
      "execution_count": 19,
      "outputs": [
        {
          "output_type": "execute_result",
          "data": {
            "text/plain": [
              "<matplotlib.axes._subplots.AxesSubplot at 0x7f862e427490>"
            ]
          },
          "metadata": {
            "tags": []
          },
          "execution_count": 19
        },
        {
          "output_type": "display_data",
          "data": {
            "image/png": "[encoded data removed]",
            "text/plain": [
              "<Figure size 720x360 with 1 Axes>"
            ]
          },
          "metadata": {
            "tags": [],
            "needs_background": "light"
          }
        }
      ]
    },
    {
      "cell_type": "code",
      "metadata": {
        "id": "VHevuMK1JfPf",
        "outputId": "efae9543-db96-4a21-d9cc-ac2a738c6b0f",
        "colab": {
          "base_uri": "https://localhost:8080/"
        }
      },
      "source": [
        "# 훈련/테스트 데이터 나누기\n",
        "from sklearn.model_selection import train_test_split\n",
        "\n",
        "X = df.drop(columns='recommend')\n",
        "y = df['recommend']\n",
        "\n",
        "X_train, X_test, y_train, y_test = train_test_split(X, y, test_size=0.2, shuffle=True, random_state=2)\n",
        "\n",
        "# 훈련/검증 데이터 나누기\n",
        "X_train, X_val, y_train, y_val = train_test_split(X_train, y_train, test_size=0.2, shuffle=True, random_state=2)\n",
        "\n",
        "print(X_train.shape)\n",
        "print(X_val.shape)\n",
        "print(X_test.shape)"
      ],
      "execution_count": 6,
      "outputs": [
        {
          "output_type": "stream",
          "text": [
            "(2399, 37)\n",
            "(600, 37)\n",
            "(750, 37)\n"
          ],
          "name": "stdout"
        }
      ]
    },
    {
      "cell_type": "code",
      "metadata": {
        "id": "5qtULKg5Yglr"
      },
      "source": [
        "def engineer(df):\n",
        "  df = df.copy()\n",
        "\n",
        "  # violations 유무에 따라 분류\n",
        "  df['Violations'].loc[~df['Violations'].isnull()] = 1  # not nan\n",
        "  df['Violations'].loc[df['Violations'].isnull()] = 0   # nan\n",
        "\n",
        "  # DBA 모두 대문자로\n",
        "  # df['DBA Name'].upper()\n",
        "\n",
        "  return df"
      ],
      "execution_count": null,
      "outputs": []
    },
    {
      "cell_type": "markdown",
      "metadata": {
        "id": "zbwxH7WJrFuh"
      },
      "source": [
        "## 4) 머신러닝 방식 적용 및 교차검증\n",
        "데이터의 탐색과 전처리 작업이 끝났다면 모델링을 통해 베이스라인과의 성능 비교를 해봅니다.  \n",
        "Linear / Tree-based / Ensemble 모델을 학습하세요. (다양하게 시도해보시는 걸 추천합니다.)  \n",
        "평가지표를 계산 후 베이스라인과 비교해보세요.  \n",
        "어느정도 성능이 나왔다면, 교차 검증 (이하 CV)을 통해서 일반화될 가능성이 있는지 확인해봅니다.  \n",
        "모델 성능을 개선하기 위한 다양한 방법을 적용해보세요. (Hyperparameter tuning, etc.)  \n",
        "최소 2개 이상의 모델을 만들어서 validation 점수를 보고하세요.  \n",
        "최종 모델의 test 점수를 보고하세요.  \n",
        "\n",
        "태스크를 수행한 후, 다음 질문에 대답할 수 있어야 합니다.  \n",
        "1. 모델을 학습한 후에 베이스라인보다 잘 나왔나요? 그렇지 않다면 그 이유는 무엇일까요?  \n",
        "2. 모델 성능 개선을 위해 어떤 방법을 적용했나요? 그 방법을 선택한 이유는 무엇인가요?  \n",
        "3. 최종 모델에 관해 설명하세요."
      ]
    },
    {
      "cell_type": "markdown",
      "metadata": {
        "id": "Uncfl6J8rFuh"
      },
      "source": [
        "## 5) 머신러닝 모델 해석\n",
        "프로젝트에서 가장 중요하다고 볼 수 있는 부분 입니다.  \n",
        "\n",
        "우리는 SHAP, PDP 등을 통해서 모델이 관측치를 어떤 특성을 활용했거나,   \n",
        "어떤 특성이 타겟에 영향을 끼쳤는지 등을 해석하는 방법에 대해서 배웠습니다.  \n",
        "여러분의 프로젝트에도 이러한 해석 방법을 활용한 머신러닝 모델을  \n",
        "비전문가라도 조금 더 쉽게 이해하고 접근할 수 있도록 해주셔야 합니다.  \n",
        "\n",
        "PDP, SHAP을 활용하여 최종 모델을 설명합니다.  \n",
        "시각화는 \"설명\"이 제일 중요합니다.  \n",
        "\n",
        "태스크를 수행한 후, 다음 질문에 대답할 수 있어야 합니다.  \n",
        "1. 모델이 관측치를 예측하기 위해서 어떤 특성을 활용했나요?\n",
        "2. 어떤 특성이 있다면 모델의 예측에 도움이 될까요? 해당 특성은 어떻게 구할 수 있을까요?"
      ]
    }
  ]
}