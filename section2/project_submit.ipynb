{
  "nbformat": 4,
  "nbformat_minor": 0,
  "metadata": {
    "kernelspec": {
      "display_name": "Python 3",
      "language": "python",
      "name": "python3"
    },
    "language_info": {
      "codemirror_mode": {
        "name": "ipython",
        "version": 3
      },
      "file_extension": ".py",
      "mimetype": "text/x-python",
      "name": "python",
      "nbconvert_exporter": "python",
      "pygments_lexer": "ipython3",
      "version": "3.8.5"
    },
    "colab": {
      "name": "Section2_project.ipynb",
      "provenance": [],
      "include_colab_link": true
    }
  },
  "cells": [
    {
      "cell_type": "markdown",
      "metadata": {
        "id": "view-in-github",
        "colab_type": "text"
      },
      "source": [
        "<a href=\"https://colab.research.google.com/github/Shena2/project/blob/main/section2/project_submit.ipynb\" target=\"_parent\"><img src=\"https://colab.research.google.com/assets/colab-badge.svg\" alt=\"Open In Colab\"/></a>"
      ]
    },
    {
      "cell_type": "markdown",
      "metadata": {
        "id": "HJzKmo1krFuf"
      },
      "source": [
        "# **다시보기를 추천할만한 영화일까?**\n",
        "\n",
        "데이터셋을 사용하여 머신러능 모델을 만든 후 성능및 인사이트를 도출 / 공유하는 것  \n",
        "발표를 듣는 사람은 비데이터 직군"
      ]
    },
    {
      "cell_type": "markdown",
      "metadata": {
        "id": "G1MRRiTorFuf"
      },
      "source": [
        "## 1) 데이터 선정 이유 및 문제 정의\n",
        "데이터를 선정할 때에는 반드시 왜 해당 데이터를 선택했는지에 대한 이유를 자세히 설명해주셔야 합니다.   \n",
        "데이터셋 선정이 끝났다면 어떤 유형의 문제로 (분류 / 회귀) 접근할지도 결정합니다."
      ]
    },
    {
      "cell_type": "markdown",
      "metadata": {
        "id": "shdln1DOrFuf"
      },
      "source": [
        "### **Feature Explanation**\n",
        "- A title : Title and subtitle of film.\n",
        "- year : Release year of the movie. The data reveal a domain of the year.\n",
        "- lifetime_gross : Gross sales for national film sales in the United States, not taking inflation into account.\n",
        "- ratingInteger : Vote on IMDb from 2 to 9.\n",
        "- ratingCount : Number of voters on the IMDb site.\n",
        "- duration : Duration of the movie in seconds.\n",
        "- nrOfWins : Number of prizes won by the movie. It is an indicative number that certifies how many are the prizes won even after\n",
        "- nrOfNominations : Number of nominations of which the film has not won any prize.\n",
        "- nrOfPhotos : Number of photos in the IMDb gallery for the movie.\n",
        "- nrOfNewsArticles : Number of articles written and documented on the film.\n",
        "- nrOfUserReviews : Number of reviews written by users.\n",
        "- nrOfGenre : Number of genre.\n",
        "- Genre : list by one hot incoding. (Action,\tAdult,\tAdventure,\tAnimation,\tBiography,\tComedy,\tCrime,\tDocumentary,\tDrama,\tFamily,\tFantasy,\tHorror,\tMusic,\tMusical,\tMystery,\tNews,\tRealityTV,\tRomance,\tSciFi,\tShort,\tSport, TalkShow,\tThriller,\tWar,\tWestern)"
      ]
    },
    {
      "cell_type": "code",
      "metadata": {
        "id": "5BcWhvLyBJAH"
      },
      "source": [
        "!pip install --upgrade scikit-learn==0.24.1"
      ],
      "execution_count": null,
      "outputs": []
    },
    {
      "cell_type": "code",
      "metadata": {
        "colab": {
          "base_uri": "https://localhost:8080/",
          "height": 272
        },
        "id": "5gMAWc5KrZ7x",
        "outputId": "768369f3-3326-46ba-ef48-d115acb143e7"
      },
      "source": [
        "# 데이터 불러오기\n",
        "import pandas as pd\n",
        "df = pd.read_csv('/content/IMDB_data.csv')\n",
        "\n",
        "df.head()"
      ],
      "execution_count": 1,
      "outputs": [
        {
          "output_type": "execute_result",
          "data": {
            "text/html": [
              "<div>\n",
              "<style scoped>\n",
              "    .dataframe tbody tr th:only-of-type {\n",
              "        vertical-align: middle;\n",
              "    }\n",
              "\n",
              "    .dataframe tbody tr th {\n",
              "        vertical-align: top;\n",
              "    }\n",
              "\n",
              "    .dataframe thead th {\n",
              "        text-align: right;\n",
              "    }\n",
              "</style>\n",
              "<table border=\"1\" class=\"dataframe\">\n",
              "  <thead>\n",
              "    <tr style=\"text-align: right;\">\n",
              "      <th></th>\n",
              "      <th>title</th>\n",
              "      <th>year</th>\n",
              "      <th>lifetime_gross</th>\n",
              "      <th>ratingInteger</th>\n",
              "      <th>ratingCount</th>\n",
              "      <th>duration</th>\n",
              "      <th>nrOfWins</th>\n",
              "      <th>nrOfNominations</th>\n",
              "      <th>nrOfPhotos</th>\n",
              "      <th>nrOfNewsArticles</th>\n",
              "      <th>nrOfUserReviews</th>\n",
              "      <th>nrOfGenre</th>\n",
              "      <th>Action</th>\n",
              "      <th>Adult</th>\n",
              "      <th>Adventure</th>\n",
              "      <th>Animation</th>\n",
              "      <th>Biography</th>\n",
              "      <th>Comedy</th>\n",
              "      <th>Crime</th>\n",
              "      <th>Documentary</th>\n",
              "      <th>Drama</th>\n",
              "      <th>Family</th>\n",
              "      <th>Fantasy</th>\n",
              "      <th>Horror</th>\n",
              "      <th>Music</th>\n",
              "      <th>Musical</th>\n",
              "      <th>Mystery</th>\n",
              "      <th>News</th>\n",
              "      <th>RealityTV</th>\n",
              "      <th>Romance</th>\n",
              "      <th>SciFi</th>\n",
              "      <th>Short</th>\n",
              "      <th>Sport</th>\n",
              "      <th>TalkShow</th>\n",
              "      <th>Thriller</th>\n",
              "      <th>War</th>\n",
              "      <th>Western</th>\n",
              "    </tr>\n",
              "  </thead>\n",
              "  <tbody>\n",
              "    <tr>\n",
              "      <th>0</th>\n",
              "      <td>METROPOLIS</td>\n",
              "      <td>1927</td>\n",
              "      <td>1236166</td>\n",
              "      <td>8</td>\n",
              "      <td>81007</td>\n",
              "      <td>9180</td>\n",
              "      <td>3</td>\n",
              "      <td>4</td>\n",
              "      <td>67</td>\n",
              "      <td>428</td>\n",
              "      <td>376</td>\n",
              "      <td>2</td>\n",
              "      <td>0</td>\n",
              "      <td>0</td>\n",
              "      <td>0</td>\n",
              "      <td>0</td>\n",
              "      <td>0</td>\n",
              "      <td>0</td>\n",
              "      <td>0</td>\n",
              "      <td>0</td>\n",
              "      <td>1</td>\n",
              "      <td>0</td>\n",
              "      <td>0</td>\n",
              "      <td>0</td>\n",
              "      <td>0</td>\n",
              "      <td>0</td>\n",
              "      <td>0</td>\n",
              "      <td>0</td>\n",
              "      <td>0</td>\n",
              "      <td>0</td>\n",
              "      <td>1</td>\n",
              "      <td>0</td>\n",
              "      <td>0</td>\n",
              "      <td>0</td>\n",
              "      <td>0</td>\n",
              "      <td>0</td>\n",
              "      <td>0</td>\n",
              "    </tr>\n",
              "    <tr>\n",
              "      <th>1</th>\n",
              "      <td>CITY LIGHTS</td>\n",
              "      <td>1931</td>\n",
              "      <td>19181</td>\n",
              "      <td>9</td>\n",
              "      <td>70057</td>\n",
              "      <td>5220</td>\n",
              "      <td>2</td>\n",
              "      <td>0</td>\n",
              "      <td>38</td>\n",
              "      <td>187</td>\n",
              "      <td>186</td>\n",
              "      <td>3</td>\n",
              "      <td>0</td>\n",
              "      <td>0</td>\n",
              "      <td>0</td>\n",
              "      <td>0</td>\n",
              "      <td>0</td>\n",
              "      <td>1</td>\n",
              "      <td>0</td>\n",
              "      <td>0</td>\n",
              "      <td>1</td>\n",
              "      <td>0</td>\n",
              "      <td>0</td>\n",
              "      <td>0</td>\n",
              "      <td>0</td>\n",
              "      <td>0</td>\n",
              "      <td>0</td>\n",
              "      <td>0</td>\n",
              "      <td>0</td>\n",
              "      <td>1</td>\n",
              "      <td>0</td>\n",
              "      <td>0</td>\n",
              "      <td>0</td>\n",
              "      <td>0</td>\n",
              "      <td>0</td>\n",
              "      <td>0</td>\n",
              "      <td>0</td>\n",
              "    </tr>\n",
              "    <tr>\n",
              "      <th>2</th>\n",
              "      <td>MODERN TIMES</td>\n",
              "      <td>1936</td>\n",
              "      <td>163577</td>\n",
              "      <td>9</td>\n",
              "      <td>90847</td>\n",
              "      <td>5220</td>\n",
              "      <td>3</td>\n",
              "      <td>1</td>\n",
              "      <td>44</td>\n",
              "      <td>27</td>\n",
              "      <td>180</td>\n",
              "      <td>2</td>\n",
              "      <td>0</td>\n",
              "      <td>0</td>\n",
              "      <td>0</td>\n",
              "      <td>0</td>\n",
              "      <td>0</td>\n",
              "      <td>1</td>\n",
              "      <td>0</td>\n",
              "      <td>0</td>\n",
              "      <td>1</td>\n",
              "      <td>0</td>\n",
              "      <td>0</td>\n",
              "      <td>0</td>\n",
              "      <td>0</td>\n",
              "      <td>0</td>\n",
              "      <td>0</td>\n",
              "      <td>0</td>\n",
              "      <td>0</td>\n",
              "      <td>0</td>\n",
              "      <td>0</td>\n",
              "      <td>0</td>\n",
              "      <td>0</td>\n",
              "      <td>0</td>\n",
              "      <td>0</td>\n",
              "      <td>0</td>\n",
              "      <td>0</td>\n",
              "    </tr>\n",
              "    <tr>\n",
              "      <th>3</th>\n",
              "      <td>GONE WITH THE WIND</td>\n",
              "      <td>1939</td>\n",
              "      <td>198676459</td>\n",
              "      <td>8</td>\n",
              "      <td>160414</td>\n",
              "      <td>14280</td>\n",
              "      <td>10</td>\n",
              "      <td>6</td>\n",
              "      <td>143</td>\n",
              "      <td>1263</td>\n",
              "      <td>653</td>\n",
              "      <td>3</td>\n",
              "      <td>0</td>\n",
              "      <td>0</td>\n",
              "      <td>0</td>\n",
              "      <td>0</td>\n",
              "      <td>0</td>\n",
              "      <td>0</td>\n",
              "      <td>0</td>\n",
              "      <td>0</td>\n",
              "      <td>1</td>\n",
              "      <td>0</td>\n",
              "      <td>0</td>\n",
              "      <td>0</td>\n",
              "      <td>0</td>\n",
              "      <td>0</td>\n",
              "      <td>0</td>\n",
              "      <td>0</td>\n",
              "      <td>0</td>\n",
              "      <td>1</td>\n",
              "      <td>0</td>\n",
              "      <td>0</td>\n",
              "      <td>0</td>\n",
              "      <td>0</td>\n",
              "      <td>0</td>\n",
              "      <td>1</td>\n",
              "      <td>0</td>\n",
              "    </tr>\n",
              "    <tr>\n",
              "      <th>4</th>\n",
              "      <td>THE WIZARD OF OZ</td>\n",
              "      <td>1939</td>\n",
              "      <td>22342633</td>\n",
              "      <td>8</td>\n",
              "      <td>209506</td>\n",
              "      <td>6120</td>\n",
              "      <td>6</td>\n",
              "      <td>12</td>\n",
              "      <td>126</td>\n",
              "      <td>2363</td>\n",
              "      <td>477</td>\n",
              "      <td>3</td>\n",
              "      <td>0</td>\n",
              "      <td>0</td>\n",
              "      <td>1</td>\n",
              "      <td>0</td>\n",
              "      <td>0</td>\n",
              "      <td>0</td>\n",
              "      <td>0</td>\n",
              "      <td>0</td>\n",
              "      <td>0</td>\n",
              "      <td>1</td>\n",
              "      <td>1</td>\n",
              "      <td>0</td>\n",
              "      <td>0</td>\n",
              "      <td>0</td>\n",
              "      <td>0</td>\n",
              "      <td>0</td>\n",
              "      <td>0</td>\n",
              "      <td>0</td>\n",
              "      <td>0</td>\n",
              "      <td>0</td>\n",
              "      <td>0</td>\n",
              "      <td>0</td>\n",
              "      <td>0</td>\n",
              "      <td>0</td>\n",
              "      <td>0</td>\n",
              "    </tr>\n",
              "  </tbody>\n",
              "</table>\n",
              "</div>"
            ],
            "text/plain": [
              "                title  year  lifetime_gross  ...  Thriller  War  Western\n",
              "0          METROPOLIS  1927         1236166  ...         0    0        0\n",
              "1         CITY LIGHTS  1931           19181  ...         0    0        0\n",
              "2        MODERN TIMES  1936          163577  ...         0    0        0\n",
              "3  GONE WITH THE WIND  1939       198676459  ...         0    1        0\n",
              "4    THE WIZARD OF OZ  1939        22342633  ...         0    0        0\n",
              "\n",
              "[5 rows x 37 columns]"
            ]
          },
          "metadata": {
            "tags": []
          },
          "execution_count": 1
        }
      ]
    },
    {
      "cell_type": "code",
      "metadata": {
        "id": "cNDOcaEC4IYS",
        "colab": {
          "base_uri": "https://localhost:8080/"
        },
        "outputId": "e2aaed35-b891-4e35-cf48-718e7429cba9"
      },
      "source": [
        "df.shape"
      ],
      "execution_count": 2,
      "outputs": [
        {
          "output_type": "execute_result",
          "data": {
            "text/plain": [
              "(3749, 37)"
            ]
          },
          "metadata": {
            "tags": []
          },
          "execution_count": 2
        }
      ]
    },
    {
      "cell_type": "markdown",
      "metadata": {
        "id": "D5yWzOPTPIhC"
      },
      "source": [
        "### **ML Model**\n",
        "- linear Regression   \n",
        "- 평점(숫자)을 통해 추천/비추천"
      ]
    },
    {
      "cell_type": "code",
      "metadata": {
        "id": "NENVw2ThO1NO"
      },
      "source": [
        "import numpy as np\n",
        "from pandas import Series\n",
        "from pandas import DataFrame"
      ],
      "execution_count": 3,
      "outputs": []
    },
    {
      "cell_type": "code",
      "metadata": {
        "id": "gegQ7VtoD_Lw",
        "colab": {
          "base_uri": "https://localhost:8080/",
          "height": 335
        },
        "outputId": "3c1a0c5b-9e7e-4bc7-cec0-45e7c6705cf0"
      },
      "source": [
        "import matplotlib.pyplot as plt\n",
        "\n",
        "rating_counts = df.value_counts(df['ratingInteger'].values, sort=False)\n",
        "rating_counts.plot.bar()\n",
        "rating_counts.plot.bar(grid=False, figsize=(7,5), fontsize=15, color='lightpink')"
      ],
      "execution_count": 4,
      "outputs": [
        {
          "output_type": "execute_result",
          "data": {
            "text/plain": [
              "<matplotlib.axes._subplots.AxesSubplot at 0x7fb55219dfd0>"
            ]
          },
          "metadata": {
            "tags": []
          },
          "execution_count": 4
        },
        {
          "output_type": "display_data",
          "data": {
            "image/png": "[encoded data removed]",
            "text/plain": [
              "<Figure size 504x360 with 1 Axes>"
            ]
          },
          "metadata": {
            "tags": [],
            "needs_background": "light"
          }
        }
      ]
    },
    {
      "cell_type": "markdown",
      "metadata": {
        "id": "zVEdCbfKrFug"
      },
      "source": [
        "## 2) 데이터를 이용한 가설 및 평가지표, 베이스라인 선택\n",
        "데이터를 선정함과 동시에 데이터를 통해서 내가 무엇을 해볼 수 있을지 가설을 세우는 것이 중요합니다.  \n",
        "가설은 쓸모 있어야 한다는 사실을 잊지마시길 바랍니다.  \n",
        "데이터 기반의 사고방식, data-driven의 마음가짐을 section1과 2에서 배웠습니다.  \n",
        "이번에는 그것들을 심화시켜서 문제 해결을 시도 해봅니다.\n",
        "\n",
        "태스크를 수행한 후, 다음 질문에 대답할 수 있어야 합니다.  \n",
        "1. 해당 특성을 target으로 지정한 이유를 설명하세요.  \n",
        "2. 해당 베이스라인 모델과 평가지표를 선택한 이유를 설명하세요"
      ]
    },
    {
      "cell_type": "markdown",
      "metadata": {
        "id": "Aql1xsJ65KOp"
      },
      "source": [
        "### **가설**\n",
        "추천 할만한 영화인지 아닌지\n",
        "- 타겟: ratingInteger\n",
        "- 베이스라인 선정: mean"
      ]
    },
    {
      "cell_type": "code",
      "metadata": {
        "id": "x--ClPZhyu0K"
      },
      "source": [
        "# 타겟 지정\n",
        "target = 'ratingInteger'\n",
        "\n",
        "# 피처 지정\n",
        "features = ['year',\t'lifetime_gross', 'ratingCount',\n",
        "       'duration', 'nrOfWins', 'nrOfNominations', 'nrOfPhotos',\n",
        "       'nrOfNewsArticles', 'nrOfUserReviews', 'nrOfGenre', 'Action', 'Adult',\n",
        "       'Adventure', 'Animation', 'Biography', 'Comedy', 'Crime', 'Documentary',\n",
        "       'Drama', 'Family', 'Fantasy', 'Horror', 'Music', 'Musical', 'Mystery',\n",
        "       'News', 'RealityTV', 'Romance', 'SciFi', 'Short', 'Sport', 'TalkShow',\n",
        "       'Thriller', 'War', 'Western']"
      ],
      "execution_count": 5,
      "outputs": []
    },
    {
      "cell_type": "code",
      "metadata": {
        "id": "bEBsjDLlWV4y",
        "colab": {
          "base_uri": "https://localhost:8080/"
        },
        "outputId": "c4cb93e0-9369-4688-f8d4-5004c21c2a31"
      },
      "source": [
        "# 베이스라인 선택\n",
        "baseline = df[target].mean()\n",
        "print('Baseline of ratingInteger:', round(baseline,3))\n",
        "\n",
        "# 베이스모델 생성\n",
        "# 평균 이상이명 추천, 아니면 비추천\n",
        "def reco(x) :\n",
        "    if x > baseline :\n",
        "        return 1\n",
        "    else :\n",
        "        return 0\n",
        "\n",
        "basemodel = pd.DataFrame(df[target].apply(lambda x : reco(x)))\n",
        "\n",
        "# 기준모델 확인\n",
        "print(pd.Series(basemodel[target]).value_counts(normalize=True))\n",
        "\n",
        "# 기준모델 정확도 확인\n",
        "print('Baseline Accuracy Score: 0.584956')"
      ],
      "execution_count": 6,
      "outputs": [
        {
          "output_type": "stream",
          "text": [
            "Baseline of ratingInteger: 6.631\n",
            "1    0.584956\n",
            "0    0.415044\n",
            "Name: ratingInteger, dtype: float64\n",
            "Baseline Accuracy Score: 0.584956\n"
          ],
          "name": "stdout"
        }
      ]
    },
    {
      "cell_type": "markdown",
      "metadata": {
        "id": "lknLJN72rFug"
      },
      "source": [
        "## 3) EDA와 데이터 전처리\n",
        "가설을 정했고 베이스라인을 만들었다면 데이터의 탐색 및 가공을 시작해봅니다.  \n",
        "바로 적용이 될 수 있는 데이터도 있겠지만, 대부분의 데이터는 전처리 작업이 필요합니다.  \n",
        "데이터 전처리를 통해 할 수 있는 것은 다양하지만 다음을 시도해볼 수 있습니다.  \n",
        "- EDA\n",
        "- Feature Engineering \n",
        "- 데이터의 정규화 \n",
        "- 노이즈 제거  \n",
        "- 결측치 제거 혹은 대체  \n",
        "- 데이터 밸런스  \n",
        "- 그 외  \n",
        "  \n",
        "  \n",
        "태스크를 수행한 후, 다음 질문에 대답할 수 있어야 합니다.  \n",
        "1. Data Leakage가 있었나요? 없었다면 어떻게 방지했나요?  \n",
        "2. 문정언님이 만들고자 하는 모델은 언제 유용한가요? 어떤 한계를 가지고 있나요?"
      ]
    },
    {
      "cell_type": "markdown",
      "metadata": {
        "id": "gDlxbsKaaDVo"
      },
      "source": [
        "### **데이터 확인**\n",
        "- 데이터 타입\n",
        "- 결측치"
      ]
    },
    {
      "cell_type": "code",
      "metadata": {
        "id": "B4wdZAeEI8Zg",
        "colab": {
          "base_uri": "https://localhost:8080/"
        },
        "outputId": "69e01bc3-5d35-4a95-c499-e17bdcc7699c"
      },
      "source": [
        "# 데이터 타입, 결측치 확인\n",
        "df.info()"
      ],
      "execution_count": 7,
      "outputs": [
        {
          "output_type": "stream",
          "text": [
            "<class 'pandas.core.frame.DataFrame'>\n",
            "RangeIndex: 3749 entries, 0 to 3748\n",
            "Data columns (total 37 columns):\n",
            " #   Column            Non-Null Count  Dtype \n",
            "---  ------            --------------  ----- \n",
            " 0   title             3749 non-null   object\n",
            " 1   year              3749 non-null   int64 \n",
            " 2   lifetime_gross    3749 non-null   int64 \n",
            " 3   ratingInteger     3749 non-null   int64 \n",
            " 4   ratingCount       3749 non-null   int64 \n",
            " 5   duration          3749 non-null   int64 \n",
            " 6   nrOfWins          3749 non-null   int64 \n",
            " 7   nrOfNominations   3749 non-null   int64 \n",
            " 8   nrOfPhotos        3749 non-null   int64 \n",
            " 9   nrOfNewsArticles  3749 non-null   int64 \n",
            " 10  nrOfUserReviews   3749 non-null   int64 \n",
            " 11  nrOfGenre         3749 non-null   int64 \n",
            " 12  Action            3749 non-null   int64 \n",
            " 13  Adult             3749 non-null   int64 \n",
            " 14  Adventure         3749 non-null   int64 \n",
            " 15  Animation         3749 non-null   int64 \n",
            " 16  Biography         3749 non-null   int64 \n",
            " 17  Comedy            3749 non-null   int64 \n",
            " 18  Crime             3749 non-null   int64 \n",
            " 19  Documentary       3749 non-null   int64 \n",
            " 20  Drama             3749 non-null   int64 \n",
            " 21  Family            3749 non-null   int64 \n",
            " 22  Fantasy           3749 non-null   int64 \n",
            " 23  Horror            3749 non-null   int64 \n",
            " 24  Music             3749 non-null   int64 \n",
            " 25  Musical           3749 non-null   int64 \n",
            " 26  Mystery           3749 non-null   int64 \n",
            " 27  News              3749 non-null   int64 \n",
            " 28  RealityTV         3749 non-null   int64 \n",
            " 29  Romance           3749 non-null   int64 \n",
            " 30  SciFi             3749 non-null   int64 \n",
            " 31  Short             3749 non-null   int64 \n",
            " 32  Sport             3749 non-null   int64 \n",
            " 33  TalkShow          3749 non-null   int64 \n",
            " 34  Thriller          3749 non-null   int64 \n",
            " 35  War               3749 non-null   int64 \n",
            " 36  Western           3749 non-null   int64 \n",
            "dtypes: int64(36), object(1)\n",
            "memory usage: 1.1+ MB\n"
          ],
          "name": "stdout"
        }
      ]
    },
    {
      "cell_type": "markdown",
      "metadata": {
        "id": "jubI05QzQffR"
      },
      "source": [
        "### **EDA**\n",
        "- 수상\n",
        "- 장르\n",
        "- 리뷰"
      ]
    },
    {
      "cell_type": "markdown",
      "metadata": {
        "id": "Dc9ZCzocDrDk"
      },
      "source": [
        "#### 수상"
      ]
    },
    {
      "cell_type": "code",
      "metadata": {
        "id": "f0BtkmVQxQCt",
        "colab": {
          "base_uri": "https://localhost:8080/",
          "height": 518
        },
        "outputId": "b33d3451-f393-4801-e750-30eb33d3ca8f"
      },
      "source": [
        "# 상을 몇개나 받았는가\n",
        "WinsCount = df.value_counts(df['nrOfWins'].values, sort=False)\n",
        "WinsCount.plot.bar()\n",
        "WinsCount.plot.bar(grid=False, figsize=(20,8), fontsize=15, color='palevioletred')"
      ],
      "execution_count": 8,
      "outputs": [
        {
          "output_type": "execute_result",
          "data": {
            "text/plain": [
              "<matplotlib.axes._subplots.AxesSubplot at 0x7fb551996410>"
            ]
          },
          "metadata": {
            "tags": []
          },
          "execution_count": 8
        },
        {
          "output_type": "display_data",
          "data": {
            "image/png": "[encoded data removed]",
            "text/plain": [
              "<Figure size 1440x576 with 1 Axes>"
            ]
          },
          "metadata": {
            "tags": [],
            "needs_background": "light"
          }
        }
      ]
    },
    {
      "cell_type": "code",
      "metadata": {
        "id": "zRKDpDUeS-s-",
        "colab": {
          "base_uri": "https://localhost:8080/",
          "height": 328
        },
        "outputId": "3f24cf43-f089-48fe-b741-452268a848a8"
      },
      "source": [
        "# 수상 여부\n",
        "def func(x) :\n",
        "    if x > 0 :\n",
        "        return 1\n",
        "    else :\n",
        "        return 0\n",
        "\n",
        "df['WinsorNot'] = df['nrOfWins'].apply(lambda x : func(x))\n",
        "\n",
        "print(pd.Series(df['WinsorNot']).value_counts()) # 합계\n",
        "colors = ['lavenderblush', 'pink']\n",
        "WinsCount1 = df.value_counts(df['WinsorNot'].values, sort=False)\n",
        "WinsCount1.plot.bar(color=colors)"
      ],
      "execution_count": 9,
      "outputs": [
        {
          "output_type": "stream",
          "text": [
            "1    2425\n",
            "0    1324\n",
            "Name: WinsorNot, dtype: int64\n"
          ],
          "name": "stdout"
        },
        {
          "output_type": "execute_result",
          "data": {
            "text/plain": [
              "<matplotlib.axes._subplots.AxesSubplot at 0x7fb551687a90>"
            ]
          },
          "metadata": {
            "tags": []
          },
          "execution_count": 9
        },
        {
          "output_type": "display_data",
          "data": {
            "image/png": "[encoded data removed]",
            "text/plain": [
              "<Figure size 432x288 with 1 Axes>"
            ]
          },
          "metadata": {
            "tags": [],
            "needs_background": "light"
          }
        }
      ]
    },
    {
      "cell_type": "markdown",
      "metadata": {
        "id": "nQqD9BihDur8"
      },
      "source": [
        "#### 장르"
      ]
    },
    {
      "cell_type": "code",
      "metadata": {
        "id": "xk17oZDK6yWK",
        "colab": {
          "base_uri": "https://localhost:8080/",
          "height": 544
        },
        "outputId": "87675a28-66c1-4aea-de81-16b332593edc"
      },
      "source": [
        "# 장르 분포 확인\n",
        "count1 = df.iloc[:, 12:-1]\n",
        "genr_count = count1.sum(axis=0).to_frame()\n",
        "genr_count.columns = ['counts']\n",
        "genr_count.plot.bar(rot=45, figsize=(20,8), color='palevioletred')"
      ],
      "execution_count": 10,
      "outputs": [
        {
          "output_type": "execute_result",
          "data": {
            "text/plain": [
              "<matplotlib.axes._subplots.AxesSubplot at 0x7fb55158e690>"
            ]
          },
          "metadata": {
            "tags": []
          },
          "execution_count": 10
        },
        {
          "output_type": "display_data",
          "data": {
            "image/png": "[encoded data removed]",
            "text/plain": [
              "<Figure size 1440x576 with 1 Axes>"
            ]
          },
          "metadata": {
            "tags": [],
            "needs_background": "light"
          }
        }
      ]
    },
    {
      "cell_type": "markdown",
      "metadata": {
        "id": "fbjMNH4iF_Z_"
      },
      "source": [
        "#### 리뷰"
      ]
    },
    {
      "cell_type": "code",
      "metadata": {
        "id": "PQ-hZpq-NowH",
        "colab": {
          "base_uri": "https://localhost:8080/",
          "height": 328
        },
        "outputId": "92a79f45-8287-4290-fab7-3ab2762b7167"
      },
      "source": [
        "# 평균값 확인\n",
        "review_mean = df['nrOfUserReviews'].mean()\n",
        "review_mean\n",
        "\n",
        "# 평균 이상의 리뷰 가진 영화 개수\n",
        "def re_mean_over(x) :\n",
        "    if x > review_mean :\n",
        "        return 1\n",
        "    else :\n",
        "        return 0\n",
        "\n",
        "df['overReview'] = df['nrOfUserReviews'].apply(lambda x : re_mean_over(x))\n",
        "\n",
        "print(pd.Series(df['overReview']).value_counts()) # 합계\n",
        "colors = ['lavenderblush', 'pink']\n",
        "overReview1 = df.value_counts(df['overReview'].values, sort=False)\n",
        "overReview1.plot.bar(color=colors)"
      ],
      "execution_count": 11,
      "outputs": [
        {
          "output_type": "stream",
          "text": [
            "0    2621\n",
            "1    1128\n",
            "Name: overReview, dtype: int64\n"
          ],
          "name": "stdout"
        },
        {
          "output_type": "execute_result",
          "data": {
            "text/plain": [
              "<matplotlib.axes._subplots.AxesSubplot at 0x7fb551498790>"
            ]
          },
          "metadata": {
            "tags": []
          },
          "execution_count": 11
        },
        {
          "output_type": "display_data",
          "data": {
            "image/png": "[encoded data removed]",
            "text/plain": [
              "<Figure size 432x288 with 1 Axes>"
            ]
          },
          "metadata": {
            "tags": [],
            "needs_background": "light"
          }
        }
      ]
    },
    {
      "cell_type": "markdown",
      "metadata": {
        "id": "tmJEoS5-SGQ5"
      },
      "source": [
        "### **Correlation**\n",
        "- 'year', 'nrOfGenre' 제외 (음수 값)"
      ]
    },
    {
      "cell_type": "code",
      "metadata": {
        "id": "eHk0w_vHxuo9",
        "colab": {
          "base_uri": "https://localhost:8080/",
          "height": 411
        },
        "outputId": "b5f72eed-7907-4ea1-91f8-10a0d53f12e9"
      },
      "source": [
        "# 변수간 상관계수 확인 (장르 제외)\n",
        "features2 = ['ratingInteger', 'year',\t'lifetime_gross', 'ratingCount',\n",
        "             'duration', 'nrOfWins', 'nrOfNominations', 'nrOfPhotos',\n",
        "             'nrOfNewsArticles', 'nrOfUserReviews', 'nrOfGenre',\n",
        "             'WinsorNot', 'overReview']\n",
        "\n",
        "df2 = df[features2]\n",
        "corr = df2.corr()\n",
        "corr_gh = corr.iloc[0, 1:13]\n",
        "corr_gh.plot.bar(rot=45, figsize=(10,5), color='orchid', title='Correlation with RatingInteger')"
      ],
      "execution_count": 12,
      "outputs": [
        {
          "output_type": "execute_result",
          "data": {
            "text/plain": [
              "<matplotlib.axes._subplots.AxesSubplot at 0x7fb558ad4450>"
            ]
          },
          "metadata": {
            "tags": []
          },
          "execution_count": 12
        },
        {
          "output_type": "display_data",
          "data": {
            "image/png": "[encoded data removed]",
            "text/plain": [
              "<Figure size 720x360 with 1 Axes>"
            ]
          },
          "metadata": {
            "tags": [],
            "needs_background": "light"
          }
        }
      ]
    },
    {
      "cell_type": "markdown",
      "metadata": {
        "id": "PtdyvkV6VeXq"
      },
      "source": [
        "### **Feature Engineering**\n",
        "- 원핫인코딩 모두 되어있음  \n",
        "- EDA할 때 적절한 변수 생성함  \n",
        "- 특성공학은 생략  "
      ]
    },
    {
      "cell_type": "markdown",
      "metadata": {
        "id": "zbwxH7WJrFuh"
      },
      "source": [
        "## 4) 머신러닝 방식 적용 및 교차검증\n",
        "데이터의 탐색과 전처리 작업이 끝났다면 모델링을 통해 베이스라인과의 성능 비교를 해봅니다.  \n",
        "Linear / Tree-based / Ensemble 모델을 학습하세요. (다양하게 시도해보시는 걸 추천합니다.)  \n",
        "평가지표를 계산 후 베이스라인과 비교해보세요.  \n",
        "어느정도 성능이 나왔다면, 교차 검증 (이하 CV)을 통해서 일반화될 가능성이 있는지 확인해봅니다.  \n",
        "모델 성능을 개선하기 위한 다양한 방법을 적용해보세요. (Hyperparameter tuning, etc.)  \n",
        "최소 2개 이상의 모델을 만들어서 validation 점수를 보고하세요.  \n",
        "최종 모델의 test 점수를 보고하세요.  \n",
        "\n",
        "태스크를 수행한 후, 다음 질문에 대답할 수 있어야 합니다.  \n",
        "1. 모델을 학습한 후에 베이스라인보다 잘 나왔나요? 그렇지 않다면 그 이유는 무엇일까요?  \n",
        "2. 모델 성능 개선을 위해 어떤 방법을 적용했나요? 그 방법을 선택한 이유는 무엇인가요?  \n",
        "3. 최종 모델에 관해 설명하세요."
      ]
    },
    {
      "cell_type": "markdown",
      "metadata": {
        "id": "RojbJ7lt1Kbi"
      },
      "source": [
        "### **Modeling**\n",
        "- pipeline\n",
        "- XGBoost\n",
        "- lightgbm"
      ]
    },
    {
      "cell_type": "markdown",
      "metadata": {
        "id": "xNsavqoBIymR"
      },
      "source": [
        "#### 데이터 나누기"
      ]
    },
    {
      "cell_type": "code",
      "metadata": {
        "id": "Y9PFE7iQ-QYg"
      },
      "source": [
        "features_final = ['lifetime_gross', 'ratingCount', 'duration', 'nrOfWins', \n",
        "                  'nrOfNominations', 'nrOfPhotos', 'nrOfNewsArticles', \n",
        "                  'nrOfUserReviews']"
      ],
      "execution_count": 13,
      "outputs": []
    },
    {
      "cell_type": "code",
      "metadata": {
        "id": "45Rma3aOCy9G"
      },
      "source": [
        ", 'Action', 'Adult', 'Adventure', \n",
        "                  'Animation', 'Biography', 'Comedy', 'Crime', 'Documentary', \n",
        "                  'Drama', 'Family', 'Fantasy', 'Horror', 'Music', 'Musical', \n",
        "                  'Mystery', 'News', 'RealityTV', 'Romance', 'SciFi', 'Short', \n",
        "                  'Sport', 'TalkShow', 'Thriller', 'War', 'Western'"
      ],
      "execution_count": null,
      "outputs": []
    },
    {
      "cell_type": "code",
      "metadata": {
        "id": "VHevuMK1JfPf",
        "colab": {
          "base_uri": "https://localhost:8080/"
        },
        "outputId": "3571698e-60f8-42e2-ad70-663cdfc0946b"
      },
      "source": [
        "# 훈련/테스트 데이터 나누기\n",
        "from sklearn.model_selection import train_test_split\n",
        "\n",
        "X = df[features_final]\n",
        "y = df[target]\n",
        "\n",
        "X_train, X_test, y_train, y_test = train_test_split(X, y, test_size=0.2, shuffle=True, random_state=2)\n",
        "\n",
        "# 훈련/검증 데이터 나누기\n",
        "X_train, X_val, y_train, y_val = train_test_split(X_train, y_train, test_size=0.2, shuffle=True, random_state=2)\n",
        "\n",
        "print(X_train.shape)\n",
        "print(X_val.shape)\n",
        "print(X_test.shape)"
      ],
      "execution_count": 15,
      "outputs": [
        {
          "output_type": "stream",
          "text": [
            "(2399, 8)\n",
            "(600, 8)\n",
            "(750, 8)\n"
          ],
          "name": "stdout"
        }
      ]
    },
    {
      "cell_type": "markdown",
      "metadata": {
        "id": "gxUiAr2m1x_A"
      },
      "source": [
        "#### sklearn"
      ]
    },
    {
      "cell_type": "code",
      "metadata": {
        "id": "wLq6Oj478Hu2",
        "colab": {
          "base_uri": "https://localhost:8080/"
        },
        "outputId": "79b63bfe-e69a-40fc-e2eb-40705b32c424"
      },
      "source": [
        "from sklearn.linear_model import LinearRegression\n",
        "\n",
        "X_train1 = X_train\n",
        "X_test1 = X_test\n",
        "X_val1 = X_val\n",
        "\n",
        "# 선형회귀 모델\n",
        "model = LinearRegression()\n",
        "\n",
        "# 모델 학습\n",
        "model.fit(X_train1, y_train)\n",
        "\n",
        "print('Accuray score: ', model.score(X_train1, y_train))\n",
        "\n",
        "# 테스트 피쳐 데이터를 앞서 훈련한 모델에 넣어 예측값 도출\n",
        "y_pred_linear = model.predict(X_val1)\n",
        "\n",
        "from sklearn.metrics import mean_absolute_error\n",
        "linear_mae = mean_absolute_error(y_val, y_pred_linear)\n",
        "\n",
        "print(\"MAE :\", linear_mae)"
      ],
      "execution_count": 16,
      "outputs": [
        {
          "output_type": "stream",
          "text": [
            "Accuray score:  0.2903517845590745\n",
            "MAE : 0.71276544252494\n"
          ],
          "name": "stdout"
        }
      ]
    },
    {
      "cell_type": "code",
      "metadata": {
        "id": "F93rTPcLCEh7",
        "colab": {
          "base_uri": "https://localhost:8080/"
        },
        "outputId": "bd702dc6-1011-4dab-f434-d0d4eead0386"
      },
      "source": [
        "from sklearn.linear_model import RidgeCV\n",
        "\n",
        "X_train2 = X_train\n",
        "X_test2 = X_test\n",
        "X_val2 = X_val\n",
        "\n",
        "# 주어진 알파값을 리스트에 담기\n",
        "alphas = [0.001, 0.01, 0.1, 1, 10] \n",
        "\n",
        "# ridgeCV 모델\n",
        "ridge = RidgeCV(alphas=alphas, normalize=True, cv=5)\n",
        "\n",
        "# 모델 학습\n",
        "ridge.fit(X_train2, y_train)\n",
        "\n",
        "# 가장 좋은 점수 및 해당 알파값 도출\n",
        "print(\"alpha :\", ridge.alpha_)\n",
        "print(\"best score :\", ridge.best_score_)\n",
        "\n",
        "# 테스트 피쳐 데이터를 앞서 훈련한 모델에 넣어 예측값 도출\n",
        "y_pred_ridge = ridge.predict(X_val2)\n",
        "\n",
        "# 테스트 타깃 데이터와 예측 데이터를 가지고 평균 절대 오차 구하기 \n",
        "from sklearn.metrics import mean_absolute_error\n",
        "ridge_mae = mean_absolute_error(y_val, y_pred_ridge)\n",
        "\n",
        "print(\"MAE :\", ridge_mae)"
      ],
      "execution_count": 17,
      "outputs": [
        {
          "output_type": "stream",
          "text": [
            "alpha : 0.01\n",
            "best score : 0.2852526733246645\n",
            "MAE : 0.7127243738173502\n"
          ],
          "name": "stdout"
        }
      ]
    },
    {
      "cell_type": "markdown",
      "metadata": {
        "id": "St6CJ3nZI2be"
      },
      "source": [
        "#### XGBoost"
      ]
    },
    {
      "cell_type": "code",
      "metadata": {
        "id": "-GOJqk8RJQJU",
        "colab": {
          "base_uri": "https://localhost:8080/"
        },
        "outputId": "fbe945fc-1e82-4fdb-a0c4-aef668dbc41d"
      },
      "source": [
        "import xgboost\n",
        "\n",
        "X_train3 = X_train\n",
        "X_test3 = X_test\n",
        "X_val3 = X_val\n",
        "\n",
        "xgb_model = xgboost.XGBRegressor(n_estimators=1000, \n",
        "                                 learning_rate=0.05,\n",
        "                                 max_depth=20)\n",
        "\n",
        "# 모델 학습\n",
        "xgb_model.fit(X_train3, y_train)\n",
        "\n",
        "y_pred_xgb = xgb_model.predict(X_val3)\n",
        "\n",
        "xgb_mae = mean_absolute_error(y_val, y_pred_xgb)\n",
        "\n",
        "print(\"MAE :\", xgb_mae)"
      ],
      "execution_count": 29,
      "outputs": [
        {
          "output_type": "stream",
          "text": [
            "[08:29:06] WARNING: /workspace/src/objective/regression_obj.cu:152: reg:linear is now deprecated in favor of reg:squarederror.\n",
            "MAE : 0.630886218547821\n"
          ],
          "name": "stdout"
        }
      ]
    },
    {
      "cell_type": "markdown",
      "metadata": {
        "id": "jZ-0qG4HMCyj"
      },
      "source": [
        "#### lightgbm"
      ]
    },
    {
      "cell_type": "code",
      "metadata": {
        "id": "w8Wv7q8-MNWa",
        "outputId": "845d8d97-a38c-4a99-a384-3deb8a500c01",
        "colab": {
          "base_uri": "https://localhost:8080/"
        }
      },
      "source": [
        "! pip install lightgbm"
      ],
      "execution_count": 19,
      "outputs": [
        {
          "output_type": "stream",
          "text": [
            "Requirement already satisfied: lightgbm in /usr/local/lib/python3.7/dist-packages (2.2.3)\n",
            "Requirement already satisfied: scikit-learn in /usr/local/lib/python3.7/dist-packages (from lightgbm) (0.24.1)\n",
            "Requirement already satisfied: numpy in /usr/local/lib/python3.7/dist-packages (from lightgbm) (1.19.5)\n",
            "Requirement already satisfied: scipy in /usr/local/lib/python3.7/dist-packages (from lightgbm) (1.4.1)\n",
            "Requirement already satisfied: threadpoolctl>=2.0.0 in /usr/local/lib/python3.7/dist-packages (from scikit-learn->lightgbm) (2.1.0)\n",
            "Requirement already satisfied: joblib>=0.11 in /usr/local/lib/python3.7/dist-packages (from scikit-learn->lightgbm) (1.0.1)\n"
          ],
          "name": "stdout"
        }
      ]
    },
    {
      "cell_type": "code",
      "metadata": {
        "id": "Y6j84FBBMrz1",
        "colab": {
          "base_uri": "https://localhost:8080/"
        },
        "outputId": "91ddffb3-e3e9-42b4-f850-6b426bb2c5b8"
      },
      "source": [
        "import lightgbm as lgb\n",
        "\n",
        "X_train4 = X_train\n",
        "X_test4 = X_test\n",
        "X_val4 = X_val\n",
        "\n",
        "train_ds = lgb.Dataset(X_train4, label = y_train) \n",
        "test_ds = lgb.Dataset(X_test4, label = y_test) \n",
        "\n",
        "params = {'learning_rate': 0.01, \n",
        "          'num_iterations' : 10000,\n",
        "          'max_depth': 25,\n",
        "          'boosting': 'dart', \n",
        "          'objective': 'regression', \n",
        "          'metric': 'mae'}\n",
        "\n",
        "lgb_model = lgb.train(params, train_ds, 1000, test_ds, \n",
        "                      verbose_eval=100, early_stopping_rounds=100)\n",
        "y_pred_lgb_train = lgb_model.predict(X_train4)\n",
        "y_pred_lgb = lgb_model.predict(X_val4)\n",
        "\n",
        "lgb_mae = mean_absolute_error(y_val, y_pred_lgb)\n",
        "print(\"MAE :\", lgb_mae)"
      ],
      "execution_count": 20,
      "outputs": [
        {
          "output_type": "stream",
          "text": [
            "/usr/local/lib/python3.7/dist-packages/lightgbm/engine.py:118: UserWarning: Found `num_iterations` in params. Will use it instead of argument\n",
            "  warnings.warn(\"Found `{}` in params. Will use it instead of argument\".format(alias))\n",
            "/usr/local/lib/python3.7/dist-packages/lightgbm/callback.py:189: UserWarning: Early stopping is not available in dart mode\n",
            "  warnings.warn('Early stopping is not available in dart mode')\n"
          ],
          "name": "stderr"
        },
        {
          "output_type": "stream",
          "text": [
            "[100]\tvalid_0's l1: 2.51343\n",
            "[200]\tvalid_0's l1: 2.87004\n",
            "[300]\tvalid_0's l1: 2.33548\n",
            "[400]\tvalid_0's l1: 1.88396\n",
            "[500]\tvalid_0's l1: 1.54474\n",
            "[600]\tvalid_0's l1: 1.47854\n",
            "[700]\tvalid_0's l1: 1.3256\n",
            "[800]\tvalid_0's l1: 1.26576\n",
            "[900]\tvalid_0's l1: 1.11076\n",
            "[1000]\tvalid_0's l1: 1.05679\n",
            "[1100]\tvalid_0's l1: 1.01215\n",
            "[1200]\tvalid_0's l1: 1.02193\n",
            "[1300]\tvalid_0's l1: 0.948179\n",
            "[1400]\tvalid_0's l1: 0.855198\n",
            "[1500]\tvalid_0's l1: 0.863368\n",
            "[1600]\tvalid_0's l1: 0.789434\n",
            "[1700]\tvalid_0's l1: 0.776149\n",
            "[1800]\tvalid_0's l1: 0.775766\n",
            "[1900]\tvalid_0's l1: 0.740515\n",
            "[2000]\tvalid_0's l1: 0.740294\n",
            "[2100]\tvalid_0's l1: 0.700084\n",
            "[2200]\tvalid_0's l1: 0.689892\n",
            "[2300]\tvalid_0's l1: 0.678834\n",
            "[2400]\tvalid_0's l1: 0.659829\n",
            "[2500]\tvalid_0's l1: 0.671394\n",
            "[2600]\tvalid_0's l1: 0.682065\n",
            "[2700]\tvalid_0's l1: 0.67701\n",
            "[2800]\tvalid_0's l1: 0.693314\n",
            "[2900]\tvalid_0's l1: 0.685962\n",
            "[3000]\tvalid_0's l1: 0.665013\n",
            "[3100]\tvalid_0's l1: 0.65423\n",
            "[3200]\tvalid_0's l1: 0.656923\n",
            "[3300]\tvalid_0's l1: 0.644693\n",
            "[3400]\tvalid_0's l1: 0.626502\n",
            "[3500]\tvalid_0's l1: 0.637238\n",
            "[3600]\tvalid_0's l1: 0.631367\n",
            "[3700]\tvalid_0's l1: 0.635282\n",
            "[3800]\tvalid_0's l1: 0.626727\n",
            "[3900]\tvalid_0's l1: 0.627475\n",
            "[4000]\tvalid_0's l1: 0.628106\n",
            "[4100]\tvalid_0's l1: 0.631436\n",
            "[4200]\tvalid_0's l1: 0.633163\n",
            "[4300]\tvalid_0's l1: 0.634485\n",
            "[4400]\tvalid_0's l1: 0.634384\n",
            "[4500]\tvalid_0's l1: 0.634236\n",
            "[4600]\tvalid_0's l1: 0.636261\n",
            "[4700]\tvalid_0's l1: 0.629867\n",
            "[4800]\tvalid_0's l1: 0.624728\n",
            "[4900]\tvalid_0's l1: 0.626336\n",
            "[5000]\tvalid_0's l1: 0.619233\n",
            "[5100]\tvalid_0's l1: 0.621413\n",
            "[5200]\tvalid_0's l1: 0.618414\n",
            "[5300]\tvalid_0's l1: 0.619178\n",
            "[5400]\tvalid_0's l1: 0.616782\n",
            "[5500]\tvalid_0's l1: 0.615927\n",
            "[5600]\tvalid_0's l1: 0.615171\n",
            "[5700]\tvalid_0's l1: 0.615975\n",
            "[5800]\tvalid_0's l1: 0.621328\n",
            "[5900]\tvalid_0's l1: 0.623495\n",
            "[6000]\tvalid_0's l1: 0.622927\n",
            "[6100]\tvalid_0's l1: 0.620216\n",
            "[6200]\tvalid_0's l1: 0.621273\n",
            "[6300]\tvalid_0's l1: 0.620643\n",
            "[6400]\tvalid_0's l1: 0.620368\n",
            "[6500]\tvalid_0's l1: 0.618535\n",
            "[6600]\tvalid_0's l1: 0.616914\n",
            "[6700]\tvalid_0's l1: 0.617763\n",
            "[6800]\tvalid_0's l1: 0.617194\n",
            "[6900]\tvalid_0's l1: 0.61727\n",
            "[7000]\tvalid_0's l1: 0.618154\n",
            "[7100]\tvalid_0's l1: 0.618799\n",
            "[7200]\tvalid_0's l1: 0.619739\n",
            "[7300]\tvalid_0's l1: 0.619443\n",
            "[7400]\tvalid_0's l1: 0.619787\n",
            "[7500]\tvalid_0's l1: 0.616197\n",
            "[7600]\tvalid_0's l1: 0.617439\n",
            "[7700]\tvalid_0's l1: 0.616421\n",
            "[7800]\tvalid_0's l1: 0.612404\n",
            "[7900]\tvalid_0's l1: 0.614643\n",
            "[8000]\tvalid_0's l1: 0.614913\n",
            "[8100]\tvalid_0's l1: 0.616605\n",
            "[8200]\tvalid_0's l1: 0.615611\n",
            "[8300]\tvalid_0's l1: 0.616367\n",
            "[8400]\tvalid_0's l1: 0.619302\n",
            "[8500]\tvalid_0's l1: 0.620906\n",
            "[8600]\tvalid_0's l1: 0.620002\n",
            "[8700]\tvalid_0's l1: 0.618819\n",
            "[8800]\tvalid_0's l1: 0.619024\n",
            "[8900]\tvalid_0's l1: 0.619279\n",
            "[9000]\tvalid_0's l1: 0.616793\n",
            "[9100]\tvalid_0's l1: 0.618685\n",
            "[9200]\tvalid_0's l1: 0.618822\n",
            "[9300]\tvalid_0's l1: 0.619453\n",
            "[9400]\tvalid_0's l1: 0.619403\n",
            "[9500]\tvalid_0's l1: 0.618821\n",
            "[9600]\tvalid_0's l1: 0.617998\n",
            "[9700]\tvalid_0's l1: 0.617672\n",
            "[9800]\tvalid_0's l1: 0.617553\n",
            "[9900]\tvalid_0's l1: 0.616731\n",
            "[10000]\tvalid_0's l1: 0.618654\n",
            "MAE : 0.6454286034926688\n"
          ],
          "name": "stdout"
        }
      ]
    },
    {
      "cell_type": "code",
      "metadata": {
        "id": "KzyXQf8lC0Mc",
        "outputId": "9173e1a0-6197-4bd5-81e4-108e98ffa777",
        "colab": {
          "base_uri": "https://localhost:8080/"
        }
      },
      "source": [
        "y_pred_xgb2 = xgb_model.predict(X_test3)\n",
        "\n",
        "xgb_mae2 = mean_absolute_error(y_test, y_pred_xgb2)\n",
        "\n",
        "print(\"MAE :\", xgb_mae2)"
      ],
      "execution_count": 25,
      "outputs": [
        {
          "output_type": "stream",
          "text": [
            "MAE : 0.6143295485178629\n"
          ],
          "name": "stdout"
        }
      ]
    },
    {
      "cell_type": "markdown",
      "metadata": {
        "id": "Uncfl6J8rFuh"
      },
      "source": [
        "## 5) 머신러닝 모델 해석\n",
        "프로젝트에서 가장 중요하다고 볼 수 있는 부분 입니다.  \n",
        "\n",
        "우리는 SHAP, PDP 등을 통해서 모델이 관측치를 어떤 특성을 활용했거나,   \n",
        "어떤 특성이 타겟에 영향을 끼쳤는지 등을 해석하는 방법에 대해서 배웠습니다.  \n",
        "여러분의 프로젝트에도 이러한 해석 방법을 활용한 머신러닝 모델을  \n",
        "비전문가라도 조금 더 쉽게 이해하고 접근할 수 있도록 해주셔야 합니다.  \n",
        "\n",
        "PDP, SHAP을 활용하여 최종 모델을 설명합니다.  \n",
        "시각화는 \"설명\"이 제일 중요합니다.  \n",
        "\n",
        "태스크를 수행한 후, 다음 질문에 대답할 수 있어야 합니다.  \n",
        "1. 모델이 관측치를 예측하기 위해서 어떤 특성을 활용했나요?\n",
        "2. 어떤 특성이 있다면 모델의 예측에 도움이 될까요? 해당 특성은 어떻게 구할 수 있을까요?"
      ]
    },
    {
      "cell_type": "code",
      "metadata": {
        "id": "KzEZ4j6-U3td",
        "outputId": "7554cacb-b85f-49d7-b3fc-0f556f6ec223",
        "colab": {
          "base_uri": "https://localhost:8080/"
        }
      },
      "source": [
        "! pip install shap"
      ],
      "execution_count": 27,
      "outputs": [
        {
          "output_type": "stream",
          "text": [
            "Collecting shap\n",
            "\u001b[?25l  Downloading https://files.pythonhosted.org/packages/b9/f4/c5b95cddae15be80f8e58b25edceca105aa83c0b8c86a1edad24a6af80d3/shap-0.39.0.tar.gz (356kB)\n",
            "\r\u001b[K     |█                               | 10kB 11.9MB/s eta 0:00:01\r\u001b[K     |█▉                              | 20kB 16.6MB/s eta 0:00:01\r\u001b[K     |██▊                             | 30kB 16.3MB/s eta 0:00:01\r\u001b[K     |███▊                            | 40kB 11.8MB/s eta 0:00:01\r\u001b[K     |████▋                           | 51kB 8.1MB/s eta 0:00:01\r\u001b[K     |█████▌                          | 61kB 8.2MB/s eta 0:00:01\r\u001b[K     |██████▍                         | 71kB 7.7MB/s eta 0:00:01\r\u001b[K     |███████▍                        | 81kB 8.1MB/s eta 0:00:01\r\u001b[K     |████████▎                       | 92kB 7.7MB/s eta 0:00:01\r\u001b[K     |█████████▏                      | 102kB 7.4MB/s eta 0:00:01\r\u001b[K     |██████████▏                     | 112kB 7.4MB/s eta 0:00:01\r\u001b[K     |███████████                     | 122kB 7.4MB/s eta 0:00:01\r\u001b[K     |████████████                    | 133kB 7.4MB/s eta 0:00:01\r\u001b[K     |████████████▉                   | 143kB 7.4MB/s eta 0:00:01\r\u001b[K     |█████████████▉                  | 153kB 7.4MB/s eta 0:00:01\r\u001b[K     |██████████████▊                 | 163kB 7.4MB/s eta 0:00:01\r\u001b[K     |███████████████▋                | 174kB 7.4MB/s eta 0:00:01\r\u001b[K     |████████████████▋               | 184kB 7.4MB/s eta 0:00:01\r\u001b[K     |█████████████████▌              | 194kB 7.4MB/s eta 0:00:01\r\u001b[K     |██████████████████▍             | 204kB 7.4MB/s eta 0:00:01\r\u001b[K     |███████████████████▎            | 215kB 7.4MB/s eta 0:00:01\r\u001b[K     |████████████████████▎           | 225kB 7.4MB/s eta 0:00:01\r\u001b[K     |█████████████████████▏          | 235kB 7.4MB/s eta 0:00:01\r\u001b[K     |██████████████████████          | 245kB 7.4MB/s eta 0:00:01\r\u001b[K     |███████████████████████         | 256kB 7.4MB/s eta 0:00:01\r\u001b[K     |████████████████████████        | 266kB 7.4MB/s eta 0:00:01\r\u001b[K     |████████████████████████▉       | 276kB 7.4MB/s eta 0:00:01\r\u001b[K     |█████████████████████████▊      | 286kB 7.4MB/s eta 0:00:01\r\u001b[K     |██████████████████████████▊     | 296kB 7.4MB/s eta 0:00:01\r\u001b[K     |███████████████████████████▋    | 307kB 7.4MB/s eta 0:00:01\r\u001b[K     |████████████████████████████▌   | 317kB 7.4MB/s eta 0:00:01\r\u001b[K     |█████████████████████████████▍  | 327kB 7.4MB/s eta 0:00:01\r\u001b[K     |██████████████████████████████▍ | 337kB 7.4MB/s eta 0:00:01\r\u001b[K     |███████████████████████████████▎| 348kB 7.4MB/s eta 0:00:01\r\u001b[K     |████████████████████████████████| 358kB 7.4MB/s \n",
            "\u001b[?25hRequirement already satisfied: numpy in /usr/local/lib/python3.7/dist-packages (from shap) (1.19.5)\n",
            "Requirement already satisfied: scipy in /usr/local/lib/python3.7/dist-packages (from shap) (1.4.1)\n",
            "Requirement already satisfied: scikit-learn in /usr/local/lib/python3.7/dist-packages (from shap) (0.24.1)\n",
            "Requirement already satisfied: pandas in /usr/local/lib/python3.7/dist-packages (from shap) (1.1.5)\n",
            "Requirement already satisfied: tqdm>4.25.0 in /usr/local/lib/python3.7/dist-packages (from shap) (4.41.1)\n",
            "Collecting slicer==0.0.7\n",
            "  Downloading https://files.pythonhosted.org/packages/78/c2/b3f55dfdb8af9812fdb9baf70cacf3b9e82e505b2bd4324d588888b81202/slicer-0.0.7-py3-none-any.whl\n",
            "Requirement already satisfied: numba in /usr/local/lib/python3.7/dist-packages (from shap) (0.51.2)\n",
            "Requirement already satisfied: cloudpickle in /usr/local/lib/python3.7/dist-packages (from shap) (1.3.0)\n",
            "Requirement already satisfied: threadpoolctl>=2.0.0 in /usr/local/lib/python3.7/dist-packages (from scikit-learn->shap) (2.1.0)\n",
            "Requirement already satisfied: joblib>=0.11 in /usr/local/lib/python3.7/dist-packages (from scikit-learn->shap) (1.0.1)\n",
            "Requirement already satisfied: python-dateutil>=2.7.3 in /usr/local/lib/python3.7/dist-packages (from pandas->shap) (2.8.1)\n",
            "Requirement already satisfied: pytz>=2017.2 in /usr/local/lib/python3.7/dist-packages (from pandas->shap) (2018.9)\n",
            "Requirement already satisfied: setuptools in /usr/local/lib/python3.7/dist-packages (from numba->shap) (57.0.0)\n",
            "Requirement already satisfied: llvmlite<0.35,>=0.34.0.dev0 in /usr/local/lib/python3.7/dist-packages (from numba->shap) (0.34.0)\n",
            "Requirement already satisfied: six>=1.5 in /usr/local/lib/python3.7/dist-packages (from python-dateutil>=2.7.3->pandas->shap) (1.15.0)\n",
            "Building wheels for collected packages: shap\n",
            "  Building wheel for shap (setup.py) ... \u001b[?25l\u001b[?25hdone\n",
            "  Created wheel for shap: filename=shap-0.39.0-cp37-cp37m-linux_x86_64.whl size=491629 sha256=e7960a98685c3c4f14481bf07c4eb2bb625c0d2e19c893321c769936e01b3774\n",
            "  Stored in directory: /root/.cache/pip/wheels/15/27/f5/a8ab9da52fd159aae6477b5ede6eaaec69fd130fa0fa59f283\n",
            "Successfully built shap\n",
            "Installing collected packages: slicer, shap\n",
            "Successfully installed shap-0.39.0 slicer-0.0.7\n"
          ],
          "name": "stdout"
        }
      ]
    },
    {
      "cell_type": "code",
      "metadata": {
        "id": "yiOd9ChXT1ZQ"
      },
      "source": [
        "import shap\n",
        "\n",
        "# compute SHAP values\n",
        "explainer = shap.TreeExplainer(xgb_model)\n",
        "shap_values = explainer.shap_values(X_train3)\n",
        "\n",
        "shap.dependence_plot(0, shap_values, y_train)"
      ],
      "execution_count": null,
      "outputs": []
    }
  ]
}