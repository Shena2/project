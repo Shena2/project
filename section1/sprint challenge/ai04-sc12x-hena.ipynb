{
  "nbformat": 4,
  "nbformat_minor": 0,
  "metadata": {
    "colab": {
      "name": "ds-sc12x.ipynb",
      "provenance": []
    },
    "kernelspec": {
      "display_name": "Python 3",
      "language": "python",
      "name": "python3"
    },
    "language_info": {
      "codemirror_mode": {
        "name": "ipython",
        "version": 3
      },
      "file_extension": ".py",
      "mimetype": "text/x-python",
      "name": "python",
      "nbconvert_exporter": "python",
      "pygments_lexer": "ipython3",
      "version": "3.8.2"
    }
  },
  "cells": [
    {
      "cell_type": "markdown",
      "metadata": {
        "id": "NooAiTdnafkz"
      },
      "source": [
        "<img src='https://i.imgur.com/RDAD11M.png' width = '200' align = 'right'>\n",
        "\n",
        "# SC12x\n",
        "\n",
        "## Statistical Analysis"
      ]
    },
    {
      "cell_type": "markdown",
      "metadata": {
        "id": "p1WIHlUA7itE"
      },
      "source": [
        "## 개요\n",
        "\n",
        "여러분은 코스 수료를 마치고 CodeStates에 DS CA (Coaching  Assistant)로 합류했습니다.\n",
        "\n",
        "여러분에게 주어진 메인 태스크는 세션 및 수강생 핸들링이지만. \n",
        "\n",
        "시간을 짜내어 사이드 프로젝트를 하고 싶어졌습니다.\n",
        "\n",
        "AIB 팀원들과의 커피타임을 통해 수강생 데이터를 하나 받을 수 있었습니다.\n",
        "\n",
        "> 기수별 학생들 성취도 데이터인데, 어떤 의미가 있는지 확인해주세요."
      ]
    },
    {
      "cell_type": "markdown",
      "metadata": {
        "id": "WpH5PrMh-rOU"
      },
      "source": [
        "### Data Description\n",
        "\n",
        "- F1 : `N`, `D`\n",
        "- F2 : `Y`, `N`\n",
        "- F3 : `A`, `B`, `C`, `D` (기수)\n",
        "- F4 : Continuous\n",
        "- F5 : Continuous\n",
        "- F6 : `A` ~ `H`\n",
        "- F7 : Continuous\n",
        "- F8 : `X`, `Y`, `Z`\n",
        "- F9 : `Y`, `N`"
      ]
    },
    {
      "cell_type": "markdown",
      "metadata": {
        "id": "5wch6ksCbJtZ"
      },
      "source": [
        "## 1. 다음 링크를 참조하여 데이터를 불러오세요. \n",
        "\n",
        "<https://ds-lecture-data.s3.ap-northeast-2.amazonaws.com/sc12x/csdata.csv>\n",
        "\n",
        "이후 간단한 전처리를 하세요.\n"
      ]
    },
    {
      "cell_type": "code",
      "metadata": {
        "id": "kpJu6Dp6dIoA"
      },
      "source": [
        "import pandas as pd\n",
        "import numpy as np\n",
        "from pandas import Series, DataFrame\n",
        "import os"
      ],
      "execution_count": 1,
      "outputs": []
    },
    {
      "cell_type": "code",
      "metadata": {
        "id": "1vSniBMjN950",
        "colab": {
          "base_uri": "https://localhost:8080/",
          "height": 424
        },
        "outputId": "783ebd2e-95e8-4fb5-afe9-d45be6af72a4"
      },
      "source": [
        "# unnamed: 0 삭제\n",
        "df = pd.read_csv(\"https://ds-lecture-data.s3.ap-northeast-2.amazonaws.com/sc12x/csdata.csv\", index_col=0)\n",
        "df"
      ],
      "execution_count": 2,
      "outputs": [
        {
          "output_type": "execute_result",
          "data": {
            "text/html": [
              "<div>\n",
              "<style scoped>\n",
              "    .dataframe tbody tr th:only-of-type {\n",
              "        vertical-align: middle;\n",
              "    }\n",
              "\n",
              "    .dataframe tbody tr th {\n",
              "        vertical-align: top;\n",
              "    }\n",
              "\n",
              "    .dataframe thead th {\n",
              "        text-align: right;\n",
              "    }\n",
              "</style>\n",
              "<table border=\"1\" class=\"dataframe\">\n",
              "  <thead>\n",
              "    <tr style=\"text-align: right;\">\n",
              "      <th></th>\n",
              "      <th>F1</th>\n",
              "      <th>F2</th>\n",
              "      <th>F3</th>\n",
              "      <th>F4</th>\n",
              "      <th>F5</th>\n",
              "      <th>F6</th>\n",
              "      <th>F7</th>\n",
              "      <th>F8</th>\n",
              "      <th>F9</th>\n",
              "    </tr>\n",
              "  </thead>\n",
              "  <tbody>\n",
              "    <tr>\n",
              "      <th>1</th>\n",
              "      <td>N</td>\n",
              "      <td>N</td>\n",
              "      <td>A</td>\n",
              "      <td>2.239542</td>\n",
              "      <td>0.773708</td>\n",
              "      <td>H</td>\n",
              "      <td>3.0</td>\n",
              "      <td>Y</td>\n",
              "      <td>Y</td>\n",
              "    </tr>\n",
              "    <tr>\n",
              "      <th>2</th>\n",
              "      <td>D</td>\n",
              "      <td>N</td>\n",
              "      <td>A</td>\n",
              "      <td>1.608900</td>\n",
              "      <td>0.133612</td>\n",
              "      <td>H</td>\n",
              "      <td>3.0</td>\n",
              "      <td>X</td>\n",
              "      <td>Y</td>\n",
              "    </tr>\n",
              "    <tr>\n",
              "      <th>3</th>\n",
              "      <td>N</td>\n",
              "      <td>N</td>\n",
              "      <td>A</td>\n",
              "      <td>2.544409</td>\n",
              "      <td>0.721873</td>\n",
              "      <td>H</td>\n",
              "      <td>8.0</td>\n",
              "      <td>Y</td>\n",
              "      <td>Y</td>\n",
              "    </tr>\n",
              "    <tr>\n",
              "      <th>4</th>\n",
              "      <td>N</td>\n",
              "      <td>Y</td>\n",
              "      <td>A</td>\n",
              "      <td>0.782857</td>\n",
              "      <td>0.259751</td>\n",
              "      <td>F</td>\n",
              "      <td>9.0</td>\n",
              "      <td>Y</td>\n",
              "      <td>N</td>\n",
              "    </tr>\n",
              "    <tr>\n",
              "      <th>5</th>\n",
              "      <td>N</td>\n",
              "      <td>N</td>\n",
              "      <td>A</td>\n",
              "      <td>1.532721</td>\n",
              "      <td>0.283534</td>\n",
              "      <td>E</td>\n",
              "      <td>4.0</td>\n",
              "      <td>Z</td>\n",
              "      <td>Y</td>\n",
              "    </tr>\n",
              "    <tr>\n",
              "      <th>...</th>\n",
              "      <td>...</td>\n",
              "      <td>...</td>\n",
              "      <td>...</td>\n",
              "      <td>...</td>\n",
              "      <td>...</td>\n",
              "      <td>...</td>\n",
              "      <td>...</td>\n",
              "      <td>...</td>\n",
              "      <td>...</td>\n",
              "    </tr>\n",
              "    <tr>\n",
              "      <th>196</th>\n",
              "      <td>N</td>\n",
              "      <td>N</td>\n",
              "      <td>D</td>\n",
              "      <td>2.765327</td>\n",
              "      <td>0.753814</td>\n",
              "      <td>G</td>\n",
              "      <td>5.0</td>\n",
              "      <td>X</td>\n",
              "      <td>Y</td>\n",
              "    </tr>\n",
              "    <tr>\n",
              "      <th>197</th>\n",
              "      <td>N</td>\n",
              "      <td>Y</td>\n",
              "      <td>D</td>\n",
              "      <td>3.098499</td>\n",
              "      <td>0.637145</td>\n",
              "      <td>G</td>\n",
              "      <td>2.0</td>\n",
              "      <td>Y</td>\n",
              "      <td>Y</td>\n",
              "    </tr>\n",
              "    <tr>\n",
              "      <th>198</th>\n",
              "      <td>N</td>\n",
              "      <td>N</td>\n",
              "      <td>D</td>\n",
              "      <td>1.613861</td>\n",
              "      <td>0.882830</td>\n",
              "      <td>F</td>\n",
              "      <td>2.0</td>\n",
              "      <td>Z</td>\n",
              "      <td>Y</td>\n",
              "    </tr>\n",
              "    <tr>\n",
              "      <th>199</th>\n",
              "      <td>N</td>\n",
              "      <td>N</td>\n",
              "      <td>d</td>\n",
              "      <td>3.003789</td>\n",
              "      <td>0.892767</td>\n",
              "      <td>G</td>\n",
              "      <td>4.0</td>\n",
              "      <td>Z</td>\n",
              "      <td>Y</td>\n",
              "    </tr>\n",
              "    <tr>\n",
              "      <th>200</th>\n",
              "      <td>N</td>\n",
              "      <td>N</td>\n",
              "      <td>D</td>\n",
              "      <td>2.468083</td>\n",
              "      <td>0.121094</td>\n",
              "      <td>G</td>\n",
              "      <td>5.0</td>\n",
              "      <td>X</td>\n",
              "      <td>N</td>\n",
              "    </tr>\n",
              "  </tbody>\n",
              "</table>\n",
              "<p>200 rows × 9 columns</p>\n",
              "</div>"
            ],
            "text/plain": [
              "    F1 F2 F3        F4        F5 F6   F7 F8 F9\n",
              "1    N  N  A  2.239542  0.773708  H  3.0  Y  Y\n",
              "2    D  N  A  1.608900  0.133612  H  3.0  X  Y\n",
              "3    N  N  A  2.544409  0.721873  H  8.0  Y  Y\n",
              "4    N  Y  A  0.782857  0.259751  F  9.0  Y  N\n",
              "5    N  N  A  1.532721  0.283534  E  4.0  Z  Y\n",
              "..  .. .. ..       ...       ... ..  ... .. ..\n",
              "196  N  N  D  2.765327  0.753814  G  5.0  X  Y\n",
              "197  N  Y  D  3.098499  0.637145  G  2.0  Y  Y\n",
              "198  N  N  D  1.613861  0.882830  F  2.0  Z  Y\n",
              "199  N  N  d  3.003789  0.892767  G  4.0  Z  Y\n",
              "200  N  N  D  2.468083  0.121094  G  5.0  X  N\n",
              "\n",
              "[200 rows x 9 columns]"
            ]
          },
          "metadata": {
            "tags": []
          },
          "execution_count": 2
        }
      ]
    },
    {
      "cell_type": "code",
      "metadata": {
        "id": "_nqcgc0yzm68"
      },
      "source": [
        "# F2 결측치 제거\n",
        "df = df.loc[-(df['F2'].isnull())]\n",
        "\n",
        "# F7 결측치 제거\n",
        "df = df.loc[-(df['F7'].isnull())]"
      ],
      "execution_count": 3,
      "outputs": []
    },
    {
      "cell_type": "code",
      "metadata": {
        "id": "lOKy1DlweQvD"
      },
      "source": [
        "# F3 소문자 대문자로 변경\n",
        "df['F3'] = df['F3'].str.upper()"
      ],
      "execution_count": 4,
      "outputs": []
    },
    {
      "cell_type": "markdown",
      "metadata": {
        "id": "G7rLytbrO38L"
      },
      "source": [
        "## 2. **F3**에 따라서 다른 Feature들이 어떤 경향을 나타내는지 해석해보세요.\n",
        "\n",
        "- categorical feature의 경우 crosstab을 사용하여 [contingency tables](https://en.wikipedia.org/wiki/Contingency_table)과 chi-square를 시도해 볼 수 있습니다.\n",
        "\n",
        "- continuous feature의 경우 여러 시각화와 t-test를 할 수 있을 겁니다.\n",
        "\n",
        "- 이를 바탕으로 **가장 유의미한** 그리고 **가장 무의미한** feature를 찾아보세요.\n",
        "\n",
        "여기서 여러분들의 목표는 \n",
        "\n",
        "`F3`에 따라서 다른 feature들이 영향이 있는지 없는지를 알아보는 \n",
        "\n",
        "**가설검정** 입니다.\n",
        "\n",
        "따라서 데이터 탐색 및 시각화 작업에 너무 많은 시간을 쏟지 마세요. 이것은 사이드 프로젝트 입니다."
      ]
    },
    {
      "cell_type": "code",
      "metadata": {
        "id": "Jat6OLXWl9ta",
        "colab": {
          "base_uri": "https://localhost:8080/",
          "height": 237
        },
        "outputId": "fb5e095b-82fd-4670-e868-7fea9dfdfb1b"
      },
      "source": [
        "# 카이검정 실행\n",
        "from scipy.stats import chi2_contingency\n",
        "\n",
        "# F1 / F3\n",
        "display(pd.crosstab(df['F1'], df['F3'], margins=False))\n",
        "chi2_contingency(pd.crosstab(df['F1'], df['F3'], margins=False))"
      ],
      "execution_count": 10,
      "outputs": [
        {
          "output_type": "display_data",
          "data": {
            "text/html": [
              "<div>\n",
              "<style scoped>\n",
              "    .dataframe tbody tr th:only-of-type {\n",
              "        vertical-align: middle;\n",
              "    }\n",
              "\n",
              "    .dataframe tbody tr th {\n",
              "        vertical-align: top;\n",
              "    }\n",
              "\n",
              "    .dataframe thead th {\n",
              "        text-align: right;\n",
              "    }\n",
              "</style>\n",
              "<table border=\"1\" class=\"dataframe\">\n",
              "  <thead>\n",
              "    <tr style=\"text-align: right;\">\n",
              "      <th>F3</th>\n",
              "      <th>A</th>\n",
              "      <th>B</th>\n",
              "      <th>C</th>\n",
              "      <th>D</th>\n",
              "    </tr>\n",
              "    <tr>\n",
              "      <th>F1</th>\n",
              "      <th></th>\n",
              "      <th></th>\n",
              "      <th></th>\n",
              "      <th></th>\n",
              "    </tr>\n",
              "  </thead>\n",
              "  <tbody>\n",
              "    <tr>\n",
              "      <th>D</th>\n",
              "      <td>6</td>\n",
              "      <td>9</td>\n",
              "      <td>10</td>\n",
              "      <td>9</td>\n",
              "    </tr>\n",
              "    <tr>\n",
              "      <th>N</th>\n",
              "      <td>42</td>\n",
              "      <td>37</td>\n",
              "      <td>37</td>\n",
              "      <td>38</td>\n",
              "    </tr>\n",
              "  </tbody>\n",
              "</table>\n",
              "</div>"
            ],
            "text/plain": [
              "F3   A   B   C   D\n",
              "F1                \n",
              "D    6   9  10   9\n",
              "N   42  37  37  38"
            ]
          },
          "metadata": {
            "tags": []
          }
        },
        {
          "output_type": "execute_result",
          "data": {
            "text/plain": [
              "(1.4377719467233525,\n",
              " 0.6967051489258402,\n",
              " 3,\n",
              " array([[ 8.68085106,  8.31914894,  8.5       ,  8.5       ],\n",
              "        [39.31914894, 37.68085106, 38.5       , 38.5       ]]))"
            ]
          },
          "metadata": {
            "tags": []
          },
          "execution_count": 10
        }
      ]
    },
    {
      "cell_type": "code",
      "metadata": {
        "id": "R-aUVSEbamAx",
        "colab": {
          "base_uri": "https://localhost:8080/",
          "height": 237
        },
        "outputId": "e6084685-4831-481e-82a5-9d32fba72576"
      },
      "source": [
        "# F2 / F3\n",
        "display(pd.crosstab(df['F2'], df['F3'], margins=False))\n",
        "chi2_contingency(pd.crosstab(df['F2'], df['F3'], margins=False))"
      ],
      "execution_count": 11,
      "outputs": [
        {
          "output_type": "display_data",
          "data": {
            "text/html": [
              "<div>\n",
              "<style scoped>\n",
              "    .dataframe tbody tr th:only-of-type {\n",
              "        vertical-align: middle;\n",
              "    }\n",
              "\n",
              "    .dataframe tbody tr th {\n",
              "        vertical-align: top;\n",
              "    }\n",
              "\n",
              "    .dataframe thead th {\n",
              "        text-align: right;\n",
              "    }\n",
              "</style>\n",
              "<table border=\"1\" class=\"dataframe\">\n",
              "  <thead>\n",
              "    <tr style=\"text-align: right;\">\n",
              "      <th>F3</th>\n",
              "      <th>A</th>\n",
              "      <th>B</th>\n",
              "      <th>C</th>\n",
              "      <th>D</th>\n",
              "    </tr>\n",
              "    <tr>\n",
              "      <th>F2</th>\n",
              "      <th></th>\n",
              "      <th></th>\n",
              "      <th></th>\n",
              "      <th></th>\n",
              "    </tr>\n",
              "  </thead>\n",
              "  <tbody>\n",
              "    <tr>\n",
              "      <th>N</th>\n",
              "      <td>44</td>\n",
              "      <td>44</td>\n",
              "      <td>42</td>\n",
              "      <td>46</td>\n",
              "    </tr>\n",
              "    <tr>\n",
              "      <th>Y</th>\n",
              "      <td>4</td>\n",
              "      <td>2</td>\n",
              "      <td>5</td>\n",
              "      <td>1</td>\n",
              "    </tr>\n",
              "  </tbody>\n",
              "</table>\n",
              "</div>"
            ],
            "text/plain": [
              "F3   A   B   C   D\n",
              "F2                \n",
              "N   44  44  42  46\n",
              "Y    4   2   5   1"
            ]
          },
          "metadata": {
            "tags": []
          }
        },
        {
          "output_type": "execute_result",
          "data": {
            "text/plain": [
              "(3.472880983750549,\n",
              " 0.3242964364801447,\n",
              " 3,\n",
              " array([[44.93617021, 43.06382979, 44.        , 44.        ],\n",
              "        [ 3.06382979,  2.93617021,  3.        ,  3.        ]]))"
            ]
          },
          "metadata": {
            "tags": []
          },
          "execution_count": 11
        }
      ]
    },
    {
      "cell_type": "code",
      "metadata": {
        "id": "2iVOw__Tnu1v",
        "outputId": "547b09c8-86c3-4ac6-a402-6bd3fe701505",
        "colab": {
          "base_uri": "https://localhost:8080/",
          "height": 486
        }
      },
      "source": [
        "# F4 / F3\n",
        "display(pd.crosstab(df['F6'], df['F3'], margins=False))\n",
        "chi2_contingency(pd.crosstab(df['F6'], df['F3'], margins=False))"
      ],
      "execution_count": 12,
      "outputs": [
        {
          "output_type": "display_data",
          "data": {
            "text/html": [
              "<div>\n",
              "<style scoped>\n",
              "    .dataframe tbody tr th:only-of-type {\n",
              "        vertical-align: middle;\n",
              "    }\n",
              "\n",
              "    .dataframe tbody tr th {\n",
              "        vertical-align: top;\n",
              "    }\n",
              "\n",
              "    .dataframe thead th {\n",
              "        text-align: right;\n",
              "    }\n",
              "</style>\n",
              "<table border=\"1\" class=\"dataframe\">\n",
              "  <thead>\n",
              "    <tr style=\"text-align: right;\">\n",
              "      <th>F3</th>\n",
              "      <th>A</th>\n",
              "      <th>B</th>\n",
              "      <th>C</th>\n",
              "      <th>D</th>\n",
              "    </tr>\n",
              "    <tr>\n",
              "      <th>F6</th>\n",
              "      <th></th>\n",
              "      <th></th>\n",
              "      <th></th>\n",
              "      <th></th>\n",
              "    </tr>\n",
              "  </thead>\n",
              "  <tbody>\n",
              "    <tr>\n",
              "      <th>B</th>\n",
              "      <td>0</td>\n",
              "      <td>1</td>\n",
              "      <td>0</td>\n",
              "      <td>0</td>\n",
              "    </tr>\n",
              "    <tr>\n",
              "      <th>C</th>\n",
              "      <td>1</td>\n",
              "      <td>1</td>\n",
              "      <td>1</td>\n",
              "      <td>2</td>\n",
              "    </tr>\n",
              "    <tr>\n",
              "      <th>D</th>\n",
              "      <td>2</td>\n",
              "      <td>2</td>\n",
              "      <td>1</td>\n",
              "      <td>1</td>\n",
              "    </tr>\n",
              "    <tr>\n",
              "      <th>E</th>\n",
              "      <td>5</td>\n",
              "      <td>4</td>\n",
              "      <td>5</td>\n",
              "      <td>4</td>\n",
              "    </tr>\n",
              "    <tr>\n",
              "      <th>F</th>\n",
              "      <td>8</td>\n",
              "      <td>15</td>\n",
              "      <td>8</td>\n",
              "      <td>5</td>\n",
              "    </tr>\n",
              "    <tr>\n",
              "      <th>G</th>\n",
              "      <td>9</td>\n",
              "      <td>9</td>\n",
              "      <td>13</td>\n",
              "      <td>12</td>\n",
              "    </tr>\n",
              "    <tr>\n",
              "      <th>H</th>\n",
              "      <td>23</td>\n",
              "      <td>14</td>\n",
              "      <td>19</td>\n",
              "      <td>23</td>\n",
              "    </tr>\n",
              "  </tbody>\n",
              "</table>\n",
              "</div>"
            ],
            "text/plain": [
              "F3   A   B   C   D\n",
              "F6                \n",
              "B    0   1   0   0\n",
              "C    1   1   1   2\n",
              "D    2   2   1   1\n",
              "E    5   4   5   4\n",
              "F    8  15   8   5\n",
              "G    9   9  13  12\n",
              "H   23  14  19  23"
            ]
          },
          "metadata": {
            "tags": []
          }
        },
        {
          "output_type": "execute_result",
          "data": {
            "text/plain": [
              "(14.55861640492677,\n",
              " 0.6920174637926282,\n",
              " 18,\n",
              " array([[ 0.25531915,  0.24468085,  0.25      ,  0.25      ],\n",
              "        [ 1.27659574,  1.22340426,  1.25      ,  1.25      ],\n",
              "        [ 1.53191489,  1.46808511,  1.5       ,  1.5       ],\n",
              "        [ 4.59574468,  4.40425532,  4.5       ,  4.5       ],\n",
              "        [ 9.19148936,  8.80851064,  9.        ,  9.        ],\n",
              "        [10.9787234 , 10.5212766 , 10.75      , 10.75      ],\n",
              "        [20.17021277, 19.32978723, 19.75      , 19.75      ]]))"
            ]
          },
          "metadata": {
            "tags": []
          },
          "execution_count": 12
        }
      ]
    },
    {
      "cell_type": "code",
      "metadata": {
        "id": "VykowhSkkY9f",
        "outputId": "f726d691-129c-4546-9a1c-097cb655c307",
        "colab": {
          "base_uri": "https://localhost:8080/",
          "height": 286
        }
      },
      "source": [
        "# F8 / F3\n",
        "display(pd.crosstab(df['F8'], df['F3'], margins=False))\n",
        "chi2_contingency(pd.crosstab(df['F8'], df['F3'], margins=False))"
      ],
      "execution_count": 13,
      "outputs": [
        {
          "output_type": "display_data",
          "data": {
            "text/html": [
              "<div>\n",
              "<style scoped>\n",
              "    .dataframe tbody tr th:only-of-type {\n",
              "        vertical-align: middle;\n",
              "    }\n",
              "\n",
              "    .dataframe tbody tr th {\n",
              "        vertical-align: top;\n",
              "    }\n",
              "\n",
              "    .dataframe thead th {\n",
              "        text-align: right;\n",
              "    }\n",
              "</style>\n",
              "<table border=\"1\" class=\"dataframe\">\n",
              "  <thead>\n",
              "    <tr style=\"text-align: right;\">\n",
              "      <th>F3</th>\n",
              "      <th>A</th>\n",
              "      <th>B</th>\n",
              "      <th>C</th>\n",
              "      <th>D</th>\n",
              "    </tr>\n",
              "    <tr>\n",
              "      <th>F8</th>\n",
              "      <th></th>\n",
              "      <th></th>\n",
              "      <th></th>\n",
              "      <th></th>\n",
              "    </tr>\n",
              "  </thead>\n",
              "  <tbody>\n",
              "    <tr>\n",
              "      <th>X</th>\n",
              "      <td>9</td>\n",
              "      <td>5</td>\n",
              "      <td>13</td>\n",
              "      <td>12</td>\n",
              "    </tr>\n",
              "    <tr>\n",
              "      <th>Y</th>\n",
              "      <td>25</td>\n",
              "      <td>27</td>\n",
              "      <td>21</td>\n",
              "      <td>22</td>\n",
              "    </tr>\n",
              "    <tr>\n",
              "      <th>Z</th>\n",
              "      <td>14</td>\n",
              "      <td>14</td>\n",
              "      <td>13</td>\n",
              "      <td>13</td>\n",
              "    </tr>\n",
              "  </tbody>\n",
              "</table>\n",
              "</div>"
            ],
            "text/plain": [
              "F3   A   B   C   D\n",
              "F8                \n",
              "X    9   5  13  12\n",
              "Y   25  27  21  22\n",
              "Z   14  14  13  13"
            ]
          },
          "metadata": {
            "tags": []
          }
        },
        {
          "output_type": "execute_result",
          "data": {
            "text/plain": [
              "(5.021174328115594,\n",
              " 0.5411002323035743,\n",
              " 6,\n",
              " array([[ 9.95744681,  9.54255319,  9.75      ,  9.75      ],\n",
              "        [24.25531915, 23.24468085, 23.75      , 23.75      ],\n",
              "        [13.78723404, 13.21276596, 13.5       , 13.5       ]]))"
            ]
          },
          "metadata": {
            "tags": []
          },
          "execution_count": 13
        }
      ]
    },
    {
      "cell_type": "code",
      "metadata": {
        "id": "U4qBZdIVkdFv",
        "outputId": "ebe92814-900d-4e72-b49b-735c78c0d153",
        "colab": {
          "base_uri": "https://localhost:8080/",
          "height": 237
        }
      },
      "source": [
        "# F9 / F3\n",
        "display(pd.crosstab(df['F9'], df['F3'], margins=False))\n",
        "chi2_contingency(pd.crosstab(df['F9'], df['F3'], margins=False))"
      ],
      "execution_count": 14,
      "outputs": [
        {
          "output_type": "display_data",
          "data": {
            "text/html": [
              "<div>\n",
              "<style scoped>\n",
              "    .dataframe tbody tr th:only-of-type {\n",
              "        vertical-align: middle;\n",
              "    }\n",
              "\n",
              "    .dataframe tbody tr th {\n",
              "        vertical-align: top;\n",
              "    }\n",
              "\n",
              "    .dataframe thead th {\n",
              "        text-align: right;\n",
              "    }\n",
              "</style>\n",
              "<table border=\"1\" class=\"dataframe\">\n",
              "  <thead>\n",
              "    <tr style=\"text-align: right;\">\n",
              "      <th>F3</th>\n",
              "      <th>A</th>\n",
              "      <th>B</th>\n",
              "      <th>C</th>\n",
              "      <th>D</th>\n",
              "    </tr>\n",
              "    <tr>\n",
              "      <th>F9</th>\n",
              "      <th></th>\n",
              "      <th></th>\n",
              "      <th></th>\n",
              "      <th></th>\n",
              "    </tr>\n",
              "  </thead>\n",
              "  <tbody>\n",
              "    <tr>\n",
              "      <th>N</th>\n",
              "      <td>24</td>\n",
              "      <td>25</td>\n",
              "      <td>26</td>\n",
              "      <td>27</td>\n",
              "    </tr>\n",
              "    <tr>\n",
              "      <th>Y</th>\n",
              "      <td>24</td>\n",
              "      <td>21</td>\n",
              "      <td>21</td>\n",
              "      <td>20</td>\n",
              "    </tr>\n",
              "  </tbody>\n",
              "</table>\n",
              "</div>"
            ],
            "text/plain": [
              "F3   A   B   C   D\n",
              "F9                \n",
              "N   24  25  26  27\n",
              "Y   24  21  21  20"
            ]
          },
          "metadata": {
            "tags": []
          }
        },
        {
          "output_type": "execute_result",
          "data": {
            "text/plain": [
              "(0.5646820912389221,\n",
              " 0.904467812423293,\n",
              " 3,\n",
              " array([[26.04255319, 24.95744681, 25.5       , 25.5       ],\n",
              "        [21.95744681, 21.04255319, 21.5       , 21.5       ]]))"
            ]
          },
          "metadata": {
            "tags": []
          },
          "execution_count": 14
        }
      ]
    },
    {
      "cell_type": "code",
      "metadata": {
        "id": "2NXrRxoCkhan",
        "outputId": "eef836d8-1306-4281-99b9-42d8b4371c80",
        "colab": {
          "base_uri": "https://localhost:8080/",
          "height": 297
        }
      },
      "source": [
        "import seaborn as sns\n",
        "\n",
        "sns.boxplot(x = 'F3', y = 'F4', data = df)"
      ],
      "execution_count": 15,
      "outputs": [
        {
          "output_type": "execute_result",
          "data": {
            "text/plain": [
              "<matplotlib.axes._subplots.AxesSubplot at 0x7f54e5415c90>"
            ]
          },
          "metadata": {
            "tags": []
          },
          "execution_count": 15
        },
        {
          "output_type": "display_data",
          "data": {
            "image/png": "[encoded data removed]",
            "text/plain": [
              "<Figure size 432x288 with 1 Axes>"
            ]
          },
          "metadata": {
            "tags": [],
            "needs_background": "light"
          }
        }
      ]
    },
    {
      "cell_type": "code",
      "metadata": {
        "id": "eHeQcDCDkzms",
        "outputId": "3097c224-aacf-4332-843d-0a26521c1810",
        "colab": {
          "base_uri": "https://localhost:8080/",
          "height": 297
        }
      },
      "source": [
        "sns.boxplot(x = 'F3', y = 'F5', data = df)"
      ],
      "execution_count": 16,
      "outputs": [
        {
          "output_type": "execute_result",
          "data": {
            "text/plain": [
              "<matplotlib.axes._subplots.AxesSubplot at 0x7f54e4ba5790>"
            ]
          },
          "metadata": {
            "tags": []
          },
          "execution_count": 16
        },
        {
          "output_type": "display_data",
          "data": {
            "image/png": "[encoded data removed]",
            "text/plain": [
              "<Figure size 432x288 with 1 Axes>"
            ]
          },
          "metadata": {
            "tags": [],
            "needs_background": "light"
          }
        }
      ]
    },
    {
      "cell_type": "code",
      "metadata": {
        "id": "L4kckt5Zk2-U",
        "outputId": "1d596a27-8a42-4720-ff1d-903218db5531",
        "colab": {
          "base_uri": "https://localhost:8080/",
          "height": 297
        }
      },
      "source": [
        "sns.boxplot(x = 'F3', y = 'F7', data = df)"
      ],
      "execution_count": 17,
      "outputs": [
        {
          "output_type": "execute_result",
          "data": {
            "text/plain": [
              "<matplotlib.axes._subplots.AxesSubplot at 0x7f54e46967d0>"
            ]
          },
          "metadata": {
            "tags": []
          },
          "execution_count": 17
        },
        {
          "output_type": "display_data",
          "data": {
            "image/png": "[encoded data removed]",
            "text/plain": [
              "<Figure size 432x288 with 1 Axes>"
            ]
          },
          "metadata": {
            "tags": [],
            "needs_background": "light"
          }
        }
      ]
    },
    {
      "cell_type": "code",
      "metadata": {
        "id": "6WDWvwzyk5R-",
        "outputId": "3b88a16e-96ad-405d-d6cb-49a5dddfdca9",
        "colab": {
          "base_uri": "https://localhost:8080/"
        }
      },
      "source": [
        "df_a = df.loc[df['F3'] == 'A']\n",
        "df_b = df.loc[df['F3'] == 'B']\n",
        "df_c = df.loc[df['F3'] == 'C']\n",
        "df_d = df.loc[df['F3'] == 'D']\n",
        "\n",
        "import scipy.stats as st\n",
        "\n",
        "# 2-sample t-test 진행\n",
        "print(st.ttest_ind(df_a['F7'], df_b['F7']))  # p-value = 0.6286933117456233\n",
        "print(st.ttest_ind(df_c['F7'], df_d['F7']))  # p-value = 0.956864676261056\n",
        "print(st.ttest_ind(df_a['F7'], df_d['F7']))  # p-value = 0.8770832353516271\n",
        "print(st.ttest_ind(df_b['F7'], df_c['F7']))  # p-value = 0.760730797060728\n",
        "\n",
        "print(st.ttest_ind(df_a['F4'], df_b['F4']))  # p-value = 2.1881133574189222e-05\n",
        "print(st.ttest_ind(df_c['F4'], df_d['F4']))  # p-value = 8.589119165482429e-05\n",
        "print(st.ttest_ind(df_a['F4'], df_d['F4']))  # p-value = 6.685707017447214e-05\n",
        "print(st.ttest_ind(df_b['F4'], df_c['F4']))  # p-value = 0.00020302751250401738"
      ],
      "execution_count": 18,
      "outputs": [
        {
          "output_type": "stream",
          "text": [
            "Ttest_indResult(statistic=0.4851923117378722, pvalue=0.6286933117456233)\n",
            "Ttest_indResult(statistic=-0.05423608234573403, pvalue=0.956864676261056)\n",
            "Ttest_indResult(statistic=0.15509411900926384, pvalue=0.8770832353516271)\n",
            "Ttest_indResult(statistic=-0.3054371587024964, pvalue=0.760730797060728)\n",
            "Ttest_indResult(statistic=-4.474496621650844, pvalue=2.1881133574189222e-05)\n",
            "Ttest_indResult(statistic=4.109785182276511, pvalue=8.589119165482429e-05)\n",
            "Ttest_indResult(statistic=-4.175847517751654, pvalue=6.685707017447214e-05)\n",
            "Ttest_indResult(statistic=-3.8719584390518205, pvalue=0.00020302751250401738)\n"
          ],
          "name": "stdout"
        }
      ]
    },
    {
      "cell_type": "markdown",
      "metadata": {
        "id": "ZM8JckA2bgnp"
      },
      "source": [
        "## 3. 분석한 내용들을 설명하는 리포트를 작성해보세요. \n",
        "\n",
        "분석의 끝은 결국 설명입니다.\n",
        "\n",
        "통계 분석에 대한 이해도가 적은 다른 크루들이 이해 할 수 있도록 \n",
        "\n",
        "분석한 내용들을 설명하는 리포트를 작성해보세요. \n",
        "\n",
        "필요한 경우 코드 / 텍스트 내용을 더 추가해도 좋습니다."
      ]
    },
    {
      "cell_type": "code",
      "metadata": {
        "id": "rHsthhmPLaqk",
        "outputId": "819f0061-9404-4885-fd49-6eccbc5c389d",
        "colab": {
          "base_uri": "https://localhost:8080/",
          "height": 206
        }
      },
      "source": [
        "from sklearn.preprocessing import StandardScaler \n",
        "\n",
        "sc = StandardScaler()\n",
        "sc.fit_transform(df[['F4','F5','F7']])\n",
        "\n",
        "df.head()"
      ],
      "execution_count": 24,
      "outputs": [
        {
          "output_type": "execute_result",
          "data": {
            "text/html": [
              "<div>\n",
              "<style scoped>\n",
              "    .dataframe tbody tr th:only-of-type {\n",
              "        vertical-align: middle;\n",
              "    }\n",
              "\n",
              "    .dataframe tbody tr th {\n",
              "        vertical-align: top;\n",
              "    }\n",
              "\n",
              "    .dataframe thead th {\n",
              "        text-align: right;\n",
              "    }\n",
              "</style>\n",
              "<table border=\"1\" class=\"dataframe\">\n",
              "  <thead>\n",
              "    <tr style=\"text-align: right;\">\n",
              "      <th></th>\n",
              "      <th>F1</th>\n",
              "      <th>F2</th>\n",
              "      <th>F3</th>\n",
              "      <th>F4</th>\n",
              "      <th>F5</th>\n",
              "      <th>F6</th>\n",
              "      <th>F7</th>\n",
              "      <th>F8</th>\n",
              "      <th>F9</th>\n",
              "    </tr>\n",
              "  </thead>\n",
              "  <tbody>\n",
              "    <tr>\n",
              "      <th>1</th>\n",
              "      <td>N</td>\n",
              "      <td>N</td>\n",
              "      <td>A</td>\n",
              "      <td>2.239542</td>\n",
              "      <td>0.773708</td>\n",
              "      <td>H</td>\n",
              "      <td>3.0</td>\n",
              "      <td>Y</td>\n",
              "      <td>Y</td>\n",
              "    </tr>\n",
              "    <tr>\n",
              "      <th>2</th>\n",
              "      <td>D</td>\n",
              "      <td>N</td>\n",
              "      <td>A</td>\n",
              "      <td>1.608900</td>\n",
              "      <td>0.133612</td>\n",
              "      <td>H</td>\n",
              "      <td>3.0</td>\n",
              "      <td>X</td>\n",
              "      <td>Y</td>\n",
              "    </tr>\n",
              "    <tr>\n",
              "      <th>3</th>\n",
              "      <td>N</td>\n",
              "      <td>N</td>\n",
              "      <td>A</td>\n",
              "      <td>2.544409</td>\n",
              "      <td>0.721873</td>\n",
              "      <td>H</td>\n",
              "      <td>8.0</td>\n",
              "      <td>Y</td>\n",
              "      <td>Y</td>\n",
              "    </tr>\n",
              "    <tr>\n",
              "      <th>4</th>\n",
              "      <td>N</td>\n",
              "      <td>Y</td>\n",
              "      <td>A</td>\n",
              "      <td>0.782857</td>\n",
              "      <td>0.259751</td>\n",
              "      <td>F</td>\n",
              "      <td>9.0</td>\n",
              "      <td>Y</td>\n",
              "      <td>N</td>\n",
              "    </tr>\n",
              "    <tr>\n",
              "      <th>5</th>\n",
              "      <td>N</td>\n",
              "      <td>N</td>\n",
              "      <td>A</td>\n",
              "      <td>1.532721</td>\n",
              "      <td>0.283534</td>\n",
              "      <td>E</td>\n",
              "      <td>4.0</td>\n",
              "      <td>Z</td>\n",
              "      <td>Y</td>\n",
              "    </tr>\n",
              "  </tbody>\n",
              "</table>\n",
              "</div>"
            ],
            "text/plain": [
              "  F1 F2 F3        F4        F5 F6   F7 F8 F9\n",
              "1  N  N  A  2.239542  0.773708  H  3.0  Y  Y\n",
              "2  D  N  A  1.608900  0.133612  H  3.0  X  Y\n",
              "3  N  N  A  2.544409  0.721873  H  8.0  Y  Y\n",
              "4  N  Y  A  0.782857  0.259751  F  9.0  Y  N\n",
              "5  N  N  A  1.532721  0.283534  E  4.0  Z  Y"
            ]
          },
          "metadata": {
            "tags": []
          },
          "execution_count": 24
        }
      ]
    },
    {
      "cell_type": "code",
      "metadata": {
        "id": "TNooCCRTlrEE",
        "outputId": "89eb77ac-1682-4875-ce1a-0eab2ce42a07",
        "colab": {
          "base_uri": "https://localhost:8080/",
          "height": 424
        }
      },
      "source": [
        "numerical = ['F4', 'F5', 'F7']\n",
        "x = df[numerical].values\n",
        "x_scaled = sc.fit_transform(x)\n",
        "\n",
        "df_temp = pd.DataFrame(x_scaled, columns=numerical, index = df.index)\n",
        "df[numerical] = df_temp\n",
        "\n",
        "df"
      ],
      "execution_count": 25,
      "outputs": [
        {
          "output_type": "execute_result",
          "data": {
            "text/html": [
              "<div>\n",
              "<style scoped>\n",
              "    .dataframe tbody tr th:only-of-type {\n",
              "        vertical-align: middle;\n",
              "    }\n",
              "\n",
              "    .dataframe tbody tr th {\n",
              "        vertical-align: top;\n",
              "    }\n",
              "\n",
              "    .dataframe thead th {\n",
              "        text-align: right;\n",
              "    }\n",
              "</style>\n",
              "<table border=\"1\" class=\"dataframe\">\n",
              "  <thead>\n",
              "    <tr style=\"text-align: right;\">\n",
              "      <th></th>\n",
              "      <th>F1</th>\n",
              "      <th>F2</th>\n",
              "      <th>F3</th>\n",
              "      <th>F4</th>\n",
              "      <th>F5</th>\n",
              "      <th>F6</th>\n",
              "      <th>F7</th>\n",
              "      <th>F8</th>\n",
              "      <th>F9</th>\n",
              "    </tr>\n",
              "  </thead>\n",
              "  <tbody>\n",
              "    <tr>\n",
              "      <th>1</th>\n",
              "      <td>N</td>\n",
              "      <td>N</td>\n",
              "      <td>A</td>\n",
              "      <td>-0.236640</td>\n",
              "      <td>0.922242</td>\n",
              "      <td>H</td>\n",
              "      <td>-0.957750</td>\n",
              "      <td>Y</td>\n",
              "      <td>Y</td>\n",
              "    </tr>\n",
              "    <tr>\n",
              "      <th>2</th>\n",
              "      <td>D</td>\n",
              "      <td>N</td>\n",
              "      <td>A</td>\n",
              "      <td>-0.776682</td>\n",
              "      <td>-1.311374</td>\n",
              "      <td>H</td>\n",
              "      <td>-0.957750</td>\n",
              "      <td>X</td>\n",
              "      <td>Y</td>\n",
              "    </tr>\n",
              "    <tr>\n",
              "      <th>3</th>\n",
              "      <td>N</td>\n",
              "      <td>N</td>\n",
              "      <td>A</td>\n",
              "      <td>0.024430</td>\n",
              "      <td>0.741364</td>\n",
              "      <td>H</td>\n",
              "      <td>1.522374</td>\n",
              "      <td>Y</td>\n",
              "      <td>Y</td>\n",
              "    </tr>\n",
              "    <tr>\n",
              "      <th>4</th>\n",
              "      <td>N</td>\n",
              "      <td>Y</td>\n",
              "      <td>A</td>\n",
              "      <td>-1.484053</td>\n",
              "      <td>-0.871214</td>\n",
              "      <td>F</td>\n",
              "      <td>2.018399</td>\n",
              "      <td>Y</td>\n",
              "      <td>N</td>\n",
              "    </tr>\n",
              "    <tr>\n",
              "      <th>5</th>\n",
              "      <td>N</td>\n",
              "      <td>N</td>\n",
              "      <td>A</td>\n",
              "      <td>-0.841917</td>\n",
              "      <td>-0.788224</td>\n",
              "      <td>E</td>\n",
              "      <td>-0.461725</td>\n",
              "      <td>Z</td>\n",
              "      <td>Y</td>\n",
              "    </tr>\n",
              "    <tr>\n",
              "      <th>...</th>\n",
              "      <td>...</td>\n",
              "      <td>...</td>\n",
              "      <td>...</td>\n",
              "      <td>...</td>\n",
              "      <td>...</td>\n",
              "      <td>...</td>\n",
              "      <td>...</td>\n",
              "      <td>...</td>\n",
              "      <td>...</td>\n",
              "    </tr>\n",
              "    <tr>\n",
              "      <th>196</th>\n",
              "      <td>N</td>\n",
              "      <td>N</td>\n",
              "      <td>D</td>\n",
              "      <td>0.213609</td>\n",
              "      <td>0.852824</td>\n",
              "      <td>G</td>\n",
              "      <td>0.034300</td>\n",
              "      <td>X</td>\n",
              "      <td>Y</td>\n",
              "    </tr>\n",
              "    <tr>\n",
              "      <th>197</th>\n",
              "      <td>N</td>\n",
              "      <td>Y</td>\n",
              "      <td>D</td>\n",
              "      <td>0.498917</td>\n",
              "      <td>0.445706</td>\n",
              "      <td>G</td>\n",
              "      <td>-1.453775</td>\n",
              "      <td>Y</td>\n",
              "      <td>Y</td>\n",
              "    </tr>\n",
              "    <tr>\n",
              "      <th>198</th>\n",
              "      <td>N</td>\n",
              "      <td>N</td>\n",
              "      <td>D</td>\n",
              "      <td>-0.772434</td>\n",
              "      <td>1.303025</td>\n",
              "      <td>F</td>\n",
              "      <td>-1.453775</td>\n",
              "      <td>Z</td>\n",
              "      <td>Y</td>\n",
              "    </tr>\n",
              "    <tr>\n",
              "      <th>199</th>\n",
              "      <td>N</td>\n",
              "      <td>N</td>\n",
              "      <td>D</td>\n",
              "      <td>0.417814</td>\n",
              "      <td>1.337700</td>\n",
              "      <td>G</td>\n",
              "      <td>-0.461725</td>\n",
              "      <td>Z</td>\n",
              "      <td>Y</td>\n",
              "    </tr>\n",
              "    <tr>\n",
              "      <th>200</th>\n",
              "      <td>N</td>\n",
              "      <td>N</td>\n",
              "      <td>D</td>\n",
              "      <td>-0.040932</td>\n",
              "      <td>-1.355056</td>\n",
              "      <td>G</td>\n",
              "      <td>0.034300</td>\n",
              "      <td>X</td>\n",
              "      <td>N</td>\n",
              "    </tr>\n",
              "  </tbody>\n",
              "</table>\n",
              "<p>188 rows × 9 columns</p>\n",
              "</div>"
            ],
            "text/plain": [
              "    F1 F2 F3        F4        F5 F6        F7 F8 F9\n",
              "1    N  N  A -0.236640  0.922242  H -0.957750  Y  Y\n",
              "2    D  N  A -0.776682 -1.311374  H -0.957750  X  Y\n",
              "3    N  N  A  0.024430  0.741364  H  1.522374  Y  Y\n",
              "4    N  Y  A -1.484053 -0.871214  F  2.018399  Y  N\n",
              "5    N  N  A -0.841917 -0.788224  E -0.461725  Z  Y\n",
              "..  .. .. ..       ...       ... ..       ... .. ..\n",
              "196  N  N  D  0.213609  0.852824  G  0.034300  X  Y\n",
              "197  N  Y  D  0.498917  0.445706  G -1.453775  Y  Y\n",
              "198  N  N  D -0.772434  1.303025  F -1.453775  Z  Y\n",
              "199  N  N  D  0.417814  1.337700  G -0.461725  Z  Y\n",
              "200  N  N  D -0.040932 -1.355056  G  0.034300  X  N\n",
              "\n",
              "[188 rows x 9 columns]"
            ]
          },
          "metadata": {
            "tags": []
          },
          "execution_count": 25
        }
      ]
    },
    {
      "cell_type": "code",
      "metadata": {
        "id": "ptUmsxx3l1KS",
        "outputId": "f4d90d64-b7a0-4968-fc99-7c0562aeef5e",
        "colab": {
          "base_uri": "https://localhost:8080/",
          "height": 206
        }
      },
      "source": [
        "# Normalization\n",
        "df_cat = pd.get_dummies(df[['F1', 'F2', 'F6', 'F8', 'F9']])\n",
        "df_cat['F3'] = df['F3']\n",
        "df_cat.head()"
      ],
      "execution_count": 26,
      "outputs": [
        {
          "output_type": "execute_result",
          "data": {
            "text/html": [
              "<div>\n",
              "<style scoped>\n",
              "    .dataframe tbody tr th:only-of-type {\n",
              "        vertical-align: middle;\n",
              "    }\n",
              "\n",
              "    .dataframe tbody tr th {\n",
              "        vertical-align: top;\n",
              "    }\n",
              "\n",
              "    .dataframe thead th {\n",
              "        text-align: right;\n",
              "    }\n",
              "</style>\n",
              "<table border=\"1\" class=\"dataframe\">\n",
              "  <thead>\n",
              "    <tr style=\"text-align: right;\">\n",
              "      <th></th>\n",
              "      <th>F1_D</th>\n",
              "      <th>F1_N</th>\n",
              "      <th>F2_N</th>\n",
              "      <th>F2_Y</th>\n",
              "      <th>F6_B</th>\n",
              "      <th>F6_C</th>\n",
              "      <th>F6_D</th>\n",
              "      <th>F6_E</th>\n",
              "      <th>F6_F</th>\n",
              "      <th>F6_G</th>\n",
              "      <th>F6_H</th>\n",
              "      <th>F8_X</th>\n",
              "      <th>F8_Y</th>\n",
              "      <th>F8_Z</th>\n",
              "      <th>F9_N</th>\n",
              "      <th>F9_Y</th>\n",
              "      <th>F3</th>\n",
              "    </tr>\n",
              "  </thead>\n",
              "  <tbody>\n",
              "    <tr>\n",
              "      <th>1</th>\n",
              "      <td>0</td>\n",
              "      <td>1</td>\n",
              "      <td>1</td>\n",
              "      <td>0</td>\n",
              "      <td>0</td>\n",
              "      <td>0</td>\n",
              "      <td>0</td>\n",
              "      <td>0</td>\n",
              "      <td>0</td>\n",
              "      <td>0</td>\n",
              "      <td>1</td>\n",
              "      <td>0</td>\n",
              "      <td>1</td>\n",
              "      <td>0</td>\n",
              "      <td>0</td>\n",
              "      <td>1</td>\n",
              "      <td>A</td>\n",
              "    </tr>\n",
              "    <tr>\n",
              "      <th>2</th>\n",
              "      <td>1</td>\n",
              "      <td>0</td>\n",
              "      <td>1</td>\n",
              "      <td>0</td>\n",
              "      <td>0</td>\n",
              "      <td>0</td>\n",
              "      <td>0</td>\n",
              "      <td>0</td>\n",
              "      <td>0</td>\n",
              "      <td>0</td>\n",
              "      <td>1</td>\n",
              "      <td>1</td>\n",
              "      <td>0</td>\n",
              "      <td>0</td>\n",
              "      <td>0</td>\n",
              "      <td>1</td>\n",
              "      <td>A</td>\n",
              "    </tr>\n",
              "    <tr>\n",
              "      <th>3</th>\n",
              "      <td>0</td>\n",
              "      <td>1</td>\n",
              "      <td>1</td>\n",
              "      <td>0</td>\n",
              "      <td>0</td>\n",
              "      <td>0</td>\n",
              "      <td>0</td>\n",
              "      <td>0</td>\n",
              "      <td>0</td>\n",
              "      <td>0</td>\n",
              "      <td>1</td>\n",
              "      <td>0</td>\n",
              "      <td>1</td>\n",
              "      <td>0</td>\n",
              "      <td>0</td>\n",
              "      <td>1</td>\n",
              "      <td>A</td>\n",
              "    </tr>\n",
              "    <tr>\n",
              "      <th>4</th>\n",
              "      <td>0</td>\n",
              "      <td>1</td>\n",
              "      <td>0</td>\n",
              "      <td>1</td>\n",
              "      <td>0</td>\n",
              "      <td>0</td>\n",
              "      <td>0</td>\n",
              "      <td>0</td>\n",
              "      <td>1</td>\n",
              "      <td>0</td>\n",
              "      <td>0</td>\n",
              "      <td>0</td>\n",
              "      <td>1</td>\n",
              "      <td>0</td>\n",
              "      <td>1</td>\n",
              "      <td>0</td>\n",
              "      <td>A</td>\n",
              "    </tr>\n",
              "    <tr>\n",
              "      <th>5</th>\n",
              "      <td>0</td>\n",
              "      <td>1</td>\n",
              "      <td>1</td>\n",
              "      <td>0</td>\n",
              "      <td>0</td>\n",
              "      <td>0</td>\n",
              "      <td>0</td>\n",
              "      <td>1</td>\n",
              "      <td>0</td>\n",
              "      <td>0</td>\n",
              "      <td>0</td>\n",
              "      <td>0</td>\n",
              "      <td>0</td>\n",
              "      <td>1</td>\n",
              "      <td>0</td>\n",
              "      <td>1</td>\n",
              "      <td>A</td>\n",
              "    </tr>\n",
              "  </tbody>\n",
              "</table>\n",
              "</div>"
            ],
            "text/plain": [
              "   F1_D  F1_N  F2_N  F2_Y  F6_B  F6_C  ...  F8_X  F8_Y  F8_Z  F9_N  F9_Y  F3\n",
              "1     0     1     1     0     0     0  ...     0     1     0     0     1   A\n",
              "2     1     0     1     0     0     0  ...     1     0     0     0     1   A\n",
              "3     0     1     1     0     0     0  ...     0     1     0     0     1   A\n",
              "4     0     1     0     1     0     0  ...     0     1     0     1     0   A\n",
              "5     0     1     1     0     0     0  ...     0     0     1     0     1   A\n",
              "\n",
              "[5 rows x 17 columns]"
            ]
          },
          "metadata": {
            "tags": []
          },
          "execution_count": 26
        }
      ]
    },
    {
      "cell_type": "code",
      "metadata": {
        "id": "9Qczt5K6l5_6",
        "outputId": "a5dc2830-bc61-45f0-e354-4a99a2476c42",
        "colab": {
          "base_uri": "https://localhost:8080/"
        }
      },
      "source": [
        "# 카이검정 제곱\n",
        "print(chi2_contingency(pd.crosstab(df_cat['F1_D'], df_cat['F3'], margins = False)))\n",
        "print(chi2_contingency(pd.crosstab(df_cat['F2_Y'], df_cat['F3'], margins = False)))"
      ],
      "execution_count": 29,
      "outputs": [
        {
          "output_type": "stream",
          "text": [
            "(1.4377719467233525, 0.6967051489258402, 3, array([[39.31914894, 37.68085106, 38.5       , 38.5       ],\n",
            "       [ 8.68085106,  8.31914894,  8.5       ,  8.5       ]]))\n",
            "(3.472880983750549, 0.3242964364801447, 3, array([[44.93617021, 43.06382979, 44.        , 44.        ],\n",
            "       [ 3.06382979,  2.93617021,  3.        ,  3.        ]]))\n"
          ],
          "name": "stdout"
        }
      ]
    },
    {
      "cell_type": "markdown",
      "metadata": {
        "id": "XOequK5xpVz7"
      },
      "source": [
        "## SC 3점 요구사항:\n",
        "\n",
        "위에서 요구된 사항들을 모두 정확하게 만족하고, 시간이 남았다면 아래 내용을 충족하는 경우 3점을 얻을 수 있습니다. \n",
        "\n",
        "아래 요구사항들 중 하나의 요구사항만 충족하면 되며, 모두 **optional** 임을 다시 한 번 강조합니다. (필수 요구사항이 아닙니다.)\n",
        "\n",
        "- Numerical 데이터에 대해서 normalize를 한 다음, 위에서 진행 했었던 분석을 다시 시행해보세요. (F4, F5, F7 vs F3)\n",
        "\n",
        "- Categorical 데이터를 one-hot encoding을 통해서 numerical 로 변환 후, 위에서 진행 했었던 분석을 다시 시행해보세요. (F1, F2, F6, F8, F9 vs F3)"
      ]
    },
    {
      "cell_type": "code",
      "metadata": {
        "id": "NT37grnxqa05"
      },
      "source": [
        "# 이 곳에 답안을 작성하시기 바랍니다"
      ],
      "execution_count": null,
      "outputs": []
    }
  ]
}